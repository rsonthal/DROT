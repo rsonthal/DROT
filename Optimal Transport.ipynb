{
 "cells": [
  {
   "cell_type": "code",
   "execution_count": null,
   "metadata": {},
   "outputs": [],
   "source": [
    "\n",
    "#Include\n",
    "using Plots, LightGraphs, SparseArrays\n",
    "using Statistics, BenchmarkTools, LinearAlgebra, ProgressMeter\n",
    "using Distributions, Base.Threads\n",
    "using Base.GC\n",
    "using Mosek, MosekTools, OSQP, ECOS, SCS, ProxSDP, CPLEX\n",
    "using Clustering, JuMP, Roots, PyCall, Base.Threads\n",
    "plotly()"
   ]
  },
  {
   "cell_type": "code",
   "execution_count": null,
   "metadata": {},
   "outputs": [],
   "source": [
    "ot = pyimport(\"ot\")\n",
    "np = pyimport(\"numpy\")"
   ]
  },
  {
   "cell_type": "markdown",
   "metadata": {},
   "source": [
    "# Sample Distribution"
   ]
  },
  {
   "cell_type": "code",
   "execution_count": null,
   "metadata": {},
   "outputs": [],
   "source": [
    "x = collect(range(-20,20; length = 5001));\n",
    "F(x) = exp(-1*((x-15)^2/20))\n",
    "G(x) = exp(-1*((x+15)^2/20))\n",
    "H(x) = exp(-1*((x+5)^2/10))\n",
    "#I(x) = exp(-1*((x-5)^2/10))\n",
    "Exp(x) = exp(-1*x/100)\n",
    "a = F.(x)\n",
    "b = G.(x)\n",
    "\n",
    "a = a./sum(a);\n",
    "b = b./sum(b);"
   ]
  },
  {
   "cell_type": "code",
   "execution_count": null,
   "metadata": {},
   "outputs": [],
   "source": [
    "D = zeros(length(a),length(b))\n",
    "for i = 1:length(a)\n",
    "    for j = 1:length(b)\n",
    "        D[i,j] = abs(x[i]-x[j])^2\n",
    "    end\n",
    "end"
   ]
  },
  {
   "cell_type": "code",
   "execution_count": null,
   "metadata": {},
   "outputs": [],
   "source": [
    "plotly()\n",
    "scatter(x,a, label=\"a\")\n",
    "scatter!(x,b, label = \"b\")"
   ]
  },
  {
   "cell_type": "markdown",
   "metadata": {},
   "source": [
    "# Qudratric regularization"
   ]
  },
  {
   "cell_type": "code",
   "execution_count": null,
   "metadata": {
    "code_folding": [
     0
    ]
   },
   "outputs": [],
   "source": [
    "function calc_opt(a,b,C,γ = 1,τ = 1e-4; maxIters = 1000, verbose = false)\n",
    "    f = γ.*a\n",
    "    g = γ.*b\n",
    "    n = length(f)\n",
    "    m = length(g)\n",
    "    \n",
    "    error = τ+1\n",
    "    \n",
    "    L = Dict()\n",
    "    Z = spzeros(n,m)\n",
    "    \n",
    "    count = 1\n",
    "    \n",
    "    while(error > τ && count < maxIters)\n",
    "        error = 0\n",
    "        \n",
    "        #Fing violated constraints\n",
    "        if count < maxIters+1\n",
    "            for i = 1:n\n",
    "                for j = 1:m\n",
    "                    if f[i]+g[j] > C[i,j]\n",
    "                        L[(i,j)] = 1\n",
    "                    end\n",
    "                end\n",
    "            end\n",
    "        else\n",
    "            for _ = 1:n\n",
    "                i = rand(1:n)\n",
    "                j = rand(1:m)\n",
    "                L[(i,j)] = 1\n",
    "            end\n",
    "        end\n",
    "        \n",
    "        #Do the project and forget steps\n",
    "        for k = 1:100\n",
    "            K = collect(keys(L))\n",
    "            for l = 1:length(K)\n",
    "                i = K[l][1]\n",
    "                j = K[l][2]\n",
    "                \n",
    "                θ = (C[i,j] - f[i] - g[j])/(2*γ)\n",
    "                c = min(θ,Z[i,j])\n",
    "                \n",
    "                if error < -1*θ\n",
    "                    error = abs(θ)\n",
    "                end\n",
    "                \n",
    "                f[i] += γ*c\n",
    "                g[j] += γ*c\n",
    "                \n",
    "                if c == Z[i,j] || Z[i,j] - c < τ/(n*m)\n",
    "                    Z[i,j] = 0\n",
    "                    delete!(L,K[l])\n",
    "                else\n",
    "                    Z[i,j] -= c\n",
    "                end\n",
    "            end\n",
    "        end\n",
    "        \n",
    "        if verbose\n",
    "            @show((error,length(L),count))\n",
    "        end\n",
    "        \n",
    "        count += 1\n",
    "    end\n",
    "    \n",
    "    return f,g,Z,L\n",
    "end"
   ]
  },
  {
   "cell_type": "markdown",
   "metadata": {},
   "source": [
    "# Method experiment"
   ]
  },
  {
   "cell_type": "markdown",
   "metadata": {},
   "source": [
    "## Solve Primal using CPLEX and Mosek"
   ]
  },
  {
   "cell_type": "code",
   "execution_count": null,
   "metadata": {},
   "outputs": [],
   "source": [
    "heatmap(TZ', color=:viridis)"
   ]
  },
  {
   "cell_type": "code",
   "execution_count": null,
   "metadata": {},
   "outputs": [],
   "source": [
    "model = Model()\n",
    "n = 501\n",
    "t = 0\n",
    "t += @elapsed @variable(model, f[1:n])\n",
    "t += @elapsed @variable(model, g[1:n]);\n",
    "cons = Array{Any,2}(undef, n,n)\n",
    "for i = 1:n\n",
    "    for j = 1:n\n",
    "        t += @elapsed cons[i,j] = @constraint(model, f[i]+g[j] <= D[i,j])\n",
    "    end\n",
    "end\n",
    "\n",
    "γ = 1e3"
   ]
  },
  {
   "cell_type": "code",
   "execution_count": null,
   "metadata": {},
   "outputs": [],
   "source": [
    "@objective(model, Max, sum(f.*a)+sum(g.*b) - (sum(f.^2)+sum(g.^2))/(2*γ));"
   ]
  },
  {
   "cell_type": "code",
   "execution_count": null,
   "metadata": {},
   "outputs": [],
   "source": [
    "set_optimizer(model, Mosek.Optimizer)"
   ]
  },
  {
   "cell_type": "code",
   "execution_count": null,
   "metadata": {
    "scrolled": true
   },
   "outputs": [],
   "source": [
    "JuMP.optimize!(model)"
   ]
  },
  {
   "cell_type": "code",
   "execution_count": null,
   "metadata": {},
   "outputs": [],
   "source": [
    "P = zeros(n,n)\n",
    "t += @elapsed for i = 1:n\n",
    "    for j = 1:n\n",
    "        P[i,j] = dual(cons[i,j])\n",
    "    end\n",
    "end"
   ]
  },
  {
   "cell_type": "code",
   "execution_count": null,
   "metadata": {},
   "outputs": [],
   "source": [
    "t"
   ]
  },
  {
   "cell_type": "code",
   "execution_count": null,
   "metadata": {
    "scrolled": true
   },
   "outputs": [],
   "source": [
    "set_optimizer(model, CPLEX.Optimizer)\n",
    "JuMP.optimize!(model)"
   ]
  },
  {
   "cell_type": "code",
   "execution_count": null,
   "metadata": {},
   "outputs": [],
   "source": [
    "set_optimizer(model, OSQP.Optimizer)\n",
    "JuMP.optimize!(model)"
   ]
  },
  {
   "cell_type": "code",
   "execution_count": null,
   "metadata": {},
   "outputs": [],
   "source": [
    "set_optimizer(model, SCS.Optimizer)\n",
    "JuMP.optimize!(model)"
   ]
  },
  {
   "cell_type": "code",
   "execution_count": null,
   "metadata": {},
   "outputs": [],
   "source": [
    "set_optimizer(model, ECOS.Optimizer)\n",
    "JuMP.optimize!(model)"
   ]
  },
  {
   "cell_type": "code",
   "execution_count": null,
   "metadata": {},
   "outputs": [],
   "source": [
    "set_optimizer(model, ProxSDP.Optimizer)\n",
    "JuMP.optimize!(model)"
   ]
  },
  {
   "cell_type": "markdown",
   "metadata": {},
   "source": [
    "## Solving the dual with CPLEX and Mosek"
   ]
  },
  {
   "cell_type": "code",
   "execution_count": null,
   "metadata": {},
   "outputs": [],
   "source": [
    "using Convex"
   ]
  },
  {
   "cell_type": "code",
   "execution_count": null,
   "metadata": {},
   "outputs": [],
   "source": [
    "@time P = Variable(length(a),length(b));"
   ]
  },
  {
   "cell_type": "code",
   "execution_count": null,
   "metadata": {},
   "outputs": [],
   "source": [
    "@time vone = ones(length(a));"
   ]
  },
  {
   "cell_type": "code",
   "execution_count": null,
   "metadata": {},
   "outputs": [],
   "source": [
    "@time problem = minimize(sum(D.*P)+sumsquares(a-P*vone)*γ/2+sumsquares(b-P'*vone)*γ/2, [P >= 0]);"
   ]
  },
  {
   "cell_type": "code",
   "execution_count": null,
   "metadata": {},
   "outputs": [],
   "source": [
    "@time problem = minimize(sum(D.*P), [P >= 0, a==P*vone,b==P'*vone]);"
   ]
  },
  {
   "cell_type": "code",
   "execution_count": null,
   "metadata": {},
   "outputs": [],
   "source": [
    "t = @elapsed solve!(problem, CPLEX.Optimizer);"
   ]
  }
 ],
 "metadata": {
  "@webio": {
   "lastCommId": null,
   "lastKernelId": null
  },
  "kernelspec": {
   "display_name": "Julia 1.1.0",
   "language": "julia",
   "name": "julia-1.1"
  },
  "language_info": {
   "file_extension": ".jl",
   "mimetype": "application/julia",
   "name": "julia",
   "version": "1.1.0"
  }
 },
 "nbformat": 4,
 "nbformat_minor": 2
}
