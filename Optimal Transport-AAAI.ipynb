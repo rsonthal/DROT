{
 "cells": [
  {
   "cell_type": "code",
   "execution_count": null,
   "metadata": {},
   "outputs": [],
   "source": [
    "#Include\n",
    "using Plots, LightGraphs, SparseArrays\n",
    "using Statistics, BenchmarkTools, LinearAlgebra, ProgressMeter\n",
    "using Distributions, Base.Threads\n",
    "using Base.GC\n",
    "using Mosek, MosekTools, OSQP, ECOS, SCS, ProxSDP, CPLEX\n",
    "using Clustering, JuMP, Roots, PyCall, Base.Threads\n",
    "plotly()"
   ]
  },
  {
   "cell_type": "code",
   "execution_count": null,
   "metadata": {},
   "outputs": [],
   "source": [
    "ot = pyimport(\"ot\")\n",
    "np = pyimport(\"numpy\")"
   ]
  },
  {
   "cell_type": "markdown",
   "metadata": {},
   "source": [
    "# Metric Nearness (Dense)"
   ]
  },
  {
   "cell_type": "code",
   "execution_count": null,
   "metadata": {
    "code_folding": [
     0,
     9,
     18,
     26,
     35,
     39,
     68,
     77,
     164,
     182
    ]
   },
   "outputs": [],
   "source": [
    "function flipcoin(p)\n",
    "    x = rand()\n",
    "    if x <= p\n",
    "        return 1\n",
    "    else\n",
    "        return 0\n",
    "    end\n",
    "end\n",
    "\n",
    "function calculateSTDEV(x,y)\n",
    "    error = 0.0\n",
    "    for i=1:length(y)\n",
    "        error = error + (x-y[i])^2\n",
    "    end\n",
    "    \n",
    "    return sqrt(error/length(y))\n",
    "end\n",
    "\n",
    "function genGraph(n,p)\n",
    "    G = randn(n,n)\n",
    "    for i = 1:n\n",
    "        G[i,i] = 0\n",
    "        for j = 1:i-1\n",
    "            if flipcoin(p) == 0\n",
    "                G[i,j] = 0\n",
    "                G[j,i] = 0\n",
    "            else\n",
    "                G[i,j] = G[j,i] \n",
    "            end\n",
    "        end\n",
    "    end\n",
    "    \n",
    "    return G\n",
    "end  \n",
    "\n",
    "function Labels(A,k)\n",
    "    return Set(partialsortperm(A, 1:k, rev=true))\n",
    "end\n",
    "\n",
    "function genGraphDir(n,p,alpha,k)\n",
    "    d = Dirichlet(alpha)\n",
    "    L = Array{Set{Int},1}(undef,n)\n",
    "    for i = 1:n\n",
    "        L[i] = Labels(rand(d),k)\n",
    "    end\n",
    "    \n",
    "    G = zeros(n,n)\n",
    "    for i = 1:n\n",
    "        G[i,i] = 0\n",
    "        for j = 1:i-1\n",
    "            if flipcoin(p) == 0\n",
    "                G[i,j] = 0\n",
    "                G[j,i] = 0\n",
    "            else\n",
    "                if isempty(intersect(L[i],L[j]))\n",
    "                    G[i,j] = 1\n",
    "                    G[j,i] = 1\n",
    "                else\n",
    "                    G[i,j] = 0.00000001\n",
    "                    G[j,i] = 0.00000001\n",
    "                end\n",
    "            end\n",
    "        end\n",
    "    end\n",
    "    \n",
    "    return G,L\n",
    "end  \n",
    "\n",
    "function enumerate_paths2(s)\n",
    "    P = Array{Any,1}(undef,size(s.parents, 1))\n",
    "    for v = 1:size(s.parents, 1)\n",
    "        P[v] = LightGraphs.enumerate_paths(s, v)\n",
    "    end\n",
    "    \n",
    "    return P\n",
    "end\n",
    "\n",
    "function BregmanOrig(D)\n",
    "    (n,n) = size(D)\n",
    "    #G = sparse(copy(D))\n",
    "    g = SimpleWeightedGraph(D)\n",
    "    Z = Dict()\n",
    "    Z′ = spzeros(n,n)\n",
    "    maxD = 2\n",
    "    count = 0\n",
    "    while(maxD > 1)\n",
    "        \n",
    "        for p in keys(Z)\n",
    "            z = Z[p]\n",
    "            l = length(p)\n",
    "            u = p[1]\n",
    "            v = p[l]\n",
    "            d = -1*g.weights[u,v]\n",
    "            for i = 1:l-1\n",
    "                d = d + g.weights[p[i], p[i+1]]\n",
    "            end\n",
    "            c = min(d/l,z)\n",
    "            for i = 1:l-1\n",
    "                g.weights[p[i],p[i+1]] -= c\n",
    "                g.weights[p[i+1],p[i]] -= c\n",
    "            end\n",
    "            g.weights[u,v] += c\n",
    "            g.weights[v,u] += c\n",
    "            if z == c\n",
    "                delete!(Z,p)\n",
    "            else\n",
    "                Z[p] -= c\n",
    "            end\n",
    "        end\n",
    "    \n",
    "        for i = 1:n\n",
    "            for j = 1:i-1\n",
    "                c = min(g.weights[j,i] - 1e-14,Z′[j,i])\n",
    "                g.weights[j,i] -= c\n",
    "                g.weights[i,j] -= c\n",
    "                Z′[j,i] -= c\n",
    "                Z′[i,j] -= c             \n",
    "            end\n",
    "        end\n",
    "        \n",
    "        FS = LightGraphs.floyd_warshall_shortest_paths(g)\n",
    "        U = FS.dists\n",
    "        P = enumerate_paths2(FS)\n",
    "        maxD = 0\n",
    "        \n",
    "        for i = 1:n\n",
    "            for j = 1:i-1\n",
    "                if g.weights[j,i] - U[j,i] > 0  \n",
    "                    p = P[j][i] #enumerate_paths2(FS,i,j)\n",
    "                    l = length(p)\n",
    "                    u = p[1]\n",
    "                    v = p[l]\n",
    "                    d = -1*g.weights[u,v]\n",
    "                    for k = 1:l-1\n",
    "                        d = d + g.weights[p[k], p[k+1]]\n",
    "                    end\n",
    "                    if d < 0\n",
    "                        c=d/l\n",
    "                        for k = 1:l-1\n",
    "                            g.weights[p[k],p[k+1]] -= c\n",
    "                            g.weights[p[k+1],p[k]] -= c\n",
    "                        end\n",
    "                        g.weights[p[1],p[l]] += c\n",
    "                        g.weights[p[l],p[1]] += c\n",
    "                        if haskey(Z,p)\n",
    "                            Z[p] = Z[p] - c\n",
    "                        else\n",
    "                            Z[p] = -1*c\n",
    "                        end\n",
    "                        if abs(d) > maxD\n",
    "                            maxD = abs(d)\n",
    "                        end\n",
    "                    end\n",
    "                end   \n",
    "            end\n",
    "        end\n",
    "        FS =  LightGraphs.floyd_warshall_shortest_paths(g)\n",
    "        maxD = norm(FS.dists-g.weights)\n",
    "        @show(maxD)\n",
    "        count+=1\n",
    "    end\n",
    "    return g.weights\n",
    "end\n",
    "\n",
    "function make_dist_vector(D)\n",
    "    n = size(D)[1]\n",
    "    N = Int((n*(n+1))/2)\n",
    "    d = zeros(N)\n",
    "    idx = 1\n",
    "    coord_to_idx = Dict()\n",
    "    for i = 1:n\n",
    "        for j = 1:i\n",
    "            d[idx] = D[i,j]\n",
    "            coord_to_idx[(i,j)] = idx\n",
    "            coord_to_idx[(j,i)] = idx\n",
    "            idx += 1\n",
    "        end\n",
    "    end\n",
    "    \n",
    "    return d, coord_to_idx\n",
    "end\n",
    "\n",
    "function make_metric_matrix(n,coord_to_idx)\n",
    "    A = spzeros(n^3,Int((n*(n+1))/2))\n",
    "    idx = 1\n",
    "    @showprogress for i = 1:n\n",
    "        for j = 1:n\n",
    "            for k = 1:n\n",
    "                A[idx,coord_to_idx[(i,j)]] = 1\n",
    "                A[idx,coord_to_idx[(i,k)]] = -1\n",
    "                A[idx,coord_to_idx[(k,j)]] = -1\n",
    "                idx += 1\n",
    "            end\n",
    "        end\n",
    "    end\n",
    "                \n",
    "    return A\n",
    "end"
   ]
  },
  {
   "cell_type": "markdown",
   "metadata": {},
   "source": [
    "# Sample Distribution"
   ]
  },
  {
   "cell_type": "code",
   "execution_count": null,
   "metadata": {},
   "outputs": [],
   "source": [
    "N = 100\n",
    "d1 = Dirichlet(N,1)\n",
    "d2 = Dirichlet(N,1)\n",
    "\n",
    "a = rand(d1)\n",
    "b = rand(d2);\n",
    "\n",
    "a = a./(sum(a))\n",
    "b = b./(sum(b))\n",
    "\n",
    "D = rand(N,N)\n",
    "\n",
    "\n",
    "@show(sum(a),sum(b),sum(abs.(a-b)));"
   ]
  },
  {
   "cell_type": "code",
   "execution_count": null,
   "metadata": {},
   "outputs": [],
   "source": []
  },
  {
   "cell_type": "code",
   "execution_count": null,
   "metadata": {},
   "outputs": [],
   "source": [
    "x = collect(range(-20,20; length = 5001));\n",
    "F(x) = exp(-1*((x-15)^2/20))\n",
    "G(x) = exp(-1*((x+15)^2/20))\n",
    "H(x) = exp(-1*((x+5)^2/10))\n",
    "#I(x) = exp(-1*((x-5)^2/10))\n",
    "Exp(x) = exp(-1*x/100)\n",
    "a = F.(x)\n",
    "b = G.(x)\n",
    "\n",
    "a = a./sum(a);\n",
    "b = b./sum(b);"
   ]
  },
  {
   "cell_type": "code",
   "execution_count": null,
   "metadata": {},
   "outputs": [],
   "source": [
    "D = ones(length(a),length(b));"
   ]
  },
  {
   "cell_type": "code",
   "execution_count": null,
   "metadata": {},
   "outputs": [],
   "source": [
    "D = zeros(length(a),length(b))\n",
    "for i = 1:length(a)\n",
    "    for j = 1:length(b)\n",
    "        D[i,j] = abs(x[i]-x[j])^2\n",
    "    end\n",
    "end"
   ]
  },
  {
   "cell_type": "code",
   "execution_count": null,
   "metadata": {},
   "outputs": [],
   "source": [
    "plotly()\n",
    "scatter(x,a, label=\"a\")\n",
    "scatter!(x,b, label = \"b\")"
   ]
  },
  {
   "cell_type": "markdown",
   "metadata": {},
   "source": [
    "# POT Stochastic"
   ]
  },
  {
   "cell_type": "code",
   "execution_count": null,
   "metadata": {},
   "outputs": [],
   "source": [
    "reg = 1\n",
    "numItermax = 20000\n",
    "lr = 0.1\n",
    "batch_size = 3\n",
    "log = true"
   ]
  },
  {
   "cell_type": "code",
   "execution_count": null,
   "metadata": {},
   "outputs": [],
   "source": [
    "sgd_dual_pi, log = ot.stochastic.solve_dual_entropic(a, b, D, reg, batch_size, numItermax, lr, log)"
   ]
  },
  {
   "cell_type": "code",
   "execution_count": null,
   "metadata": {},
   "outputs": [],
   "source": [
    "heatmap(sgd_dual_pi, yflip=true)"
   ]
  },
  {
   "cell_type": "markdown",
   "metadata": {},
   "source": [
    "# Calculate Wasserstein"
   ]
  },
  {
   "cell_type": "code",
   "execution_count": null,
   "metadata": {},
   "outputs": [],
   "source": [
    "W = ot.emd2(b,a, PyReverseDims(D))\n",
    "T= ot.emd(b,a, PyReverseDims(D));"
   ]
  },
  {
   "cell_type": "code",
   "execution_count": null,
   "metadata": {},
   "outputs": [],
   "source": [
    "heatmap(T')"
   ]
  },
  {
   "cell_type": "code",
   "execution_count": null,
   "metadata": {},
   "outputs": [],
   "source": [
    "sum(T.!=0)"
   ]
  },
  {
   "cell_type": "markdown",
   "metadata": {},
   "source": [
    "# Qudratric regularization"
   ]
  },
  {
   "cell_type": "code",
   "execution_count": null,
   "metadata": {
    "code_folding": [
     0
    ]
   },
   "outputs": [],
   "source": [
    "function calc_opt(a,b,C,γ = 1,τ = 1e-4; maxIters = 1000, verbose = false)\n",
    "    f = γ.*a\n",
    "    g = γ.*b\n",
    "    n = length(f)\n",
    "    m = length(g)\n",
    "    \n",
    "    error = τ+1\n",
    "    \n",
    "    L = Dict()\n",
    "    Z = spzeros(n,m)\n",
    "    \n",
    "    count = 1\n",
    "    \n",
    "    while(error > τ && count < maxIters)\n",
    "        error = 0\n",
    "        \n",
    "        #Fing violated constraints\n",
    "        if count < maxIters+1\n",
    "            for i = 1:n\n",
    "                for j = 1:m\n",
    "                    if f[i]+g[j] > C[i,j]\n",
    "                        L[(i,j)] = 1\n",
    "                    end\n",
    "                end\n",
    "            end\n",
    "        else\n",
    "            for _ = 1:n\n",
    "                i = rand(1:n)\n",
    "                j = rand(1:m)\n",
    "                L[(i,j)] = 1\n",
    "            end\n",
    "        end\n",
    "        \n",
    "        #Do the project and forget steps\n",
    "        for k = 1:100\n",
    "            K = collect(keys(L))\n",
    "            for l = 1:length(K)\n",
    "                i = K[l][1]\n",
    "                j = K[l][2]\n",
    "                \n",
    "                θ = (C[i,j] - f[i] - g[j])/(2*γ)\n",
    "                c = min(θ,Z[i,j])\n",
    "                \n",
    "                if error < -1*θ\n",
    "                    error = abs(θ)\n",
    "                end\n",
    "                \n",
    "                f[i] += γ*c\n",
    "                g[j] += γ*c\n",
    "                \n",
    "                if c == Z[i,j] || Z[i,j] - c < τ/(n*m)\n",
    "                    Z[i,j] = 0\n",
    "                    delete!(L,K[l])\n",
    "                else\n",
    "                    Z[i,j] -= c\n",
    "                end\n",
    "            end\n",
    "        end\n",
    "        \n",
    "        if verbose\n",
    "            @show((error,length(L),count))\n",
    "        end\n",
    "        \n",
    "        count += 1\n",
    "    end\n",
    "    \n",
    "    return f,g,Z,L\n",
    "end"
   ]
  },
  {
   "cell_type": "code",
   "execution_count": null,
   "metadata": {
    "code_folding": [
     0,
     76
    ]
   },
   "outputs": [],
   "source": [
    "function calc_opt_entropy(a,b,C,γ = 1,τ = 1e-4; maxIters = 1000, verbose = false)\n",
    "    f = exp.((γ.*a))\n",
    "    g = exp.((γ.*b))\n",
    "    n = length(f)\n",
    "    m = length(g)\n",
    "    \n",
    "    error = τ+1\n",
    "    \n",
    "    L = Dict()\n",
    "    Z = spzeros(n,m)\n",
    "    \n",
    "    count = 1\n",
    "    \n",
    "    while(error > τ && count < maxIters)\n",
    "        \n",
    "        error = 0\n",
    "        \n",
    "        #Fing violated constraints\n",
    "        if count < 200\n",
    "            for i = 1:n\n",
    "                for j = 1:m\n",
    "                    if f[i]+g[j] > C[i,j]\n",
    "                        L[(i,j)] = 1\n",
    "                    end\n",
    "                end\n",
    "            end\n",
    "        else\n",
    "            for _ = 1:100*n\n",
    "                i = rand(1:n)\n",
    "                j = rand(1:m)\n",
    "                L[(i,j)] = 1\n",
    "            end\n",
    "        end\n",
    "        if verbose\n",
    "            @show(length(L))\n",
    "            flush(stdout)\n",
    "        end\n",
    "        \n",
    "        #Do the project and forget steps\n",
    "        for k = 1:20\n",
    "            K = collect(keys(L))\n",
    "            for l = 1:length(K)\n",
    "                i = K[l][1]\n",
    "                j = K[l][2]\n",
    "                θ = (log((C[i,j])/(f[i]+g[j]))/γ)\n",
    "                c = min(θ,Z[i,j])\n",
    "                \n",
    "                err = C[i,j] - f[i] - g[j]\n",
    "                \n",
    "                if error < -1*err\n",
    "                    error = abs(err)\n",
    "                end\n",
    "                \n",
    "                f[i] *= exp(γ*c)\n",
    "                g[j] *= exp(γ*c)\n",
    "                \n",
    "                if c == Z[i,j] || Z[i,j] - c < τ/n\n",
    "                    Z[i,j] = 0\n",
    "                    delete!(L,K[l])\n",
    "                else\n",
    "                    Z[i,j] -= c\n",
    "                end\n",
    "            end\n",
    "        end\n",
    "        \n",
    "        if verbose\n",
    "            @show((error,length(L),count))\n",
    "            flush(stdout)\n",
    "        end\n",
    "        \n",
    "        count += 1\n",
    "    end\n",
    "    \n",
    "    return f,g,Z,L\n",
    "end\n",
    "\n",
    "function cont_opt_entropy(a,b,C,f,g,Z,L,γ = 1,τ = 1e-4 ; maxIters = 1000, verbose = false)\n",
    "    n = length(f)\n",
    "    m = length(g)\n",
    "    \n",
    "    error = τ+1\n",
    "    count = 1\n",
    "    \n",
    "    while(error > τ && count < maxIters)\n",
    "        \n",
    "        error = 0\n",
    "        \n",
    "        #Fing violated constraints\n",
    "        if count < 200\n",
    "            Threads.@threads for i = 1:n\n",
    "                for j = 1:m\n",
    "                    if f[i]+g[j] > C[i,j]\n",
    "                        L[i,j] = 1\n",
    "                    end\n",
    "                end\n",
    "            end\n",
    "        else\n",
    "            for _ = 1:100*n\n",
    "                i = rand(1:n)\n",
    "                j = rand(1:m)\n",
    "                L[i,j] = 1\n",
    "            end\n",
    "        end\n",
    "        \n",
    "        @show(sum(L.>0))\n",
    "        flush(stdout)\n",
    "        \n",
    "        #Do the project and forget steps\n",
    "        for k = 1:20\n",
    "            for i = 1:n\n",
    "                for j = 1:m\n",
    "                    if L[i,j] > 0\n",
    "                        θ = (log(C[i,j]/(f[i]+g[j]))/γ)\n",
    "                        c = min(θ,Z[i,j])\n",
    "                \n",
    "                        err = C[i,j] - f[i] - g[j]\n",
    "                \n",
    "                        if error < -1*err\n",
    "                            error = abs(err)\n",
    "                        end\n",
    "                \n",
    "                        f[i] *= exp(γ*c)\n",
    "                        g[j] *= exp(γ*c)\n",
    "                \n",
    "                        if c == Z[i,j] || Z[i,j] - c < τ/n\n",
    "                            Z[i,j] = 0\n",
    "                            L[i,j] = 0\n",
    "                        else\n",
    "                            Z[i,j] -= c\n",
    "                        end\n",
    "                    end\n",
    "                end\n",
    "            end\n",
    "        end\n",
    "        \n",
    "        if verbose\n",
    "            @show((error,sum(L.>0),count))\n",
    "            flush(stdout)\n",
    "        end\n",
    "        \n",
    "        count += 1\n",
    "    end\n",
    "    \n",
    "    return f,g,Z,L\n",
    "end"
   ]
  },
  {
   "cell_type": "code",
   "execution_count": null,
   "metadata": {
    "code_folding": [
     0,
     8,
     21,
     31,
     39,
     49,
     75
    ]
   },
   "outputs": [],
   "source": [
    "function myfunc(x::Vector, grad::Vector,y)\n",
    "    if length(grad) > 0\n",
    "        grad[1] = exp(x[1]) - exp(y[1])\n",
    "        grad[2] = exp(x[2]) - exp(y[2])\n",
    "    end\n",
    "    return exp(x[1])+exp(x[2])-exp(y[1])*(1+x[1]-y[1])-exp(y[2])*(1+x[2]-y[2])\n",
    "end\n",
    "\n",
    "function find_lambda(a,y)\n",
    "    b = BigFloat(exp(y[1])+exp(y[2]))\n",
    "    c = BigFloat(exp(y[1]+y[2])-exp(a))\n",
    "    \n",
    "    lambda = -1*b*ones(2)/(2)\n",
    "    d = sqrt(b^2-4*c)/(2)\n",
    "    \n",
    "    lambda[1] += d\n",
    "    lambda[2] -= d\n",
    "    \n",
    "    return lambda\n",
    "end\n",
    "\n",
    "function check_lambda(y,a,lambda)\n",
    "    try\n",
    "        x1 = log(lambda + exp(y[1]))\n",
    "        x2 = log(lambda + exp(y[2]))\n",
    "        return myfunc([x1,x2],zeros(2),y)\n",
    "    catch e\n",
    "        return false\n",
    "    end\n",
    "end\n",
    "\n",
    "function myconstraint_1(x::Vector, grad::Vector, a)\n",
    "    if length(grad) > 0\n",
    "        grad[1] = 1\n",
    "        grad[2] = 1\n",
    "    end\n",
    "    return x[1]+x[2]-a\n",
    "end\n",
    "    \n",
    "function myconstraint_2(x::Vector, grad::Vector, a)\n",
    "    if length(grad) > 0\n",
    "        grad[1] = -1\n",
    "        grad[2] = -1\n",
    "    end\n",
    "    return -x[1]-x[2]+a\n",
    "end\n",
    "\n",
    "global y = zeros(2)\n",
    "\n",
    "function calc_opt_exp(a,b,C,γ = 1,τ = 1e-4, maxIters = 1000)\n",
    "    F = (log.(a) .+ γ)\n",
    "    G = (log.(b) .+ γ)\n",
    "    n = length(F)\n",
    "    m = length(G)\n",
    "    \n",
    "    error = τ+1\n",
    "    \n",
    "    L = Dict()\n",
    "    Z = spzeros(n,m)\n",
    "    \n",
    "    count = 1\n",
    "    \n",
    "    while(error > τ && count < maxIters)\n",
    "        \n",
    "        error = 0\n",
    "        \n",
    "        #Fing violated constraints\n",
    "        if count < maxIters\n",
    "            for i = 1:n\n",
    "                for j = 1:m\n",
    "                    if F[i]+G[j] > C[i,j]\n",
    "                        L[(i,j)] = 1\n",
    "                    end\n",
    "                end\n",
    "            end\n",
    "        else\n",
    "            for _ = 1:n\n",
    "                i = rand(1:n)\n",
    "                j = rand(1:m)\n",
    "                L[(i,j)] = 1\n",
    "            end\n",
    "        end\n",
    "        \n",
    "        #Do the project and forget steps\n",
    "        for k = 1:5\n",
    "            K = collect(keys(L))\n",
    "            if sum(Z .< 0) > 0\n",
    "                println(\"Why the fuck\")\n",
    "            end\n",
    "            for l = 1:length(K)\n",
    "                i = K[l][1]\n",
    "                j = K[l][2]\n",
    "                \n",
    "                y =[F[i],G[j]]\n",
    "                \n",
    "                lambda = find_lambda(C[i,j],y)\n",
    "                \n",
    "                r1 = check_lambda(y,C[i,j],lambda[1])\n",
    "                r2 = check_lambda(y,C[i,j],lambda[2])\n",
    "                \n",
    "                if r1 == false && r2 != false\n",
    "                    θ = lambda[2]/(exp(γ))\n",
    "                    println(2)\n",
    "                elseif r2 == false && r1 != false\n",
    "                    θ = lambda[1]/(exp(γ))\n",
    "                elseif r1 == false && r2 == false\n",
    "                    θ = 0\n",
    "                    println(3)\n",
    "                else\n",
    "                    if r1 < r2\n",
    "                        θ = lambda[1]/(exp(γ))\n",
    "                        println(1)\n",
    "                    else\n",
    "                        θ = lambda[2]/(exp(γ))\n",
    "                        println(2)\n",
    "                    end\n",
    "                        \n",
    "                end\n",
    "\n",
    "                #opt.min_objective = (x,g) -> myfunc(x,g,y) \n",
    "                #inequality_constraint!(opt, (x,grad) -> myconstraint_1(x,grad,C[i,j]), 1e-8)\n",
    "                #inequality_constraint!(opt, (x,grad) -> myconstraint_2(x,grad,C[i,j]), 1e-8)\n",
    "\n",
    "                #(minf,minx,ret) = NLopt.optimize(opt, zeros(2))\n",
    "                \n",
    "                #θ = lambda[1]/(exp(γ))\n",
    "                #@show(exp.(minx)-exp.(y))\n",
    "                #flush(stdout)\n",
    "                err = C[i,j] - F[i] - G[j]\n",
    "                c = min(θ,Z[i,j])\n",
    "                \n",
    "                if error < -1*err\n",
    "                    error = abs(err)\n",
    "                end\n",
    "                if θ < Z[i,j]\n",
    "                    F[i] = log(lambda[1] + exp(y[1]))\n",
    "                    G[j] = log(lambda[1] + exp(y[2]))\n",
    "                    Z[i,j] -= θ\n",
    "                else\n",
    "                    delete!(L,K[l])\n",
    "                    F[i] = log(exp(F[i]) + exp(γ)*Z[i,j])\n",
    "                    G[j] = log(exp(G[j]) + exp(γ)*Z[i,j])\n",
    "                    Z[i,j] = 0\n",
    "                end\n",
    "            end\n",
    "        end\n",
    "    \n",
    "        if count%500 == 0\n",
    "            @show((error,length(L),count))\n",
    "            flush(stdout)\n",
    "        end\n",
    "        \n",
    "        count += 1\n",
    "    end\n",
    "    \n",
    "    return F,G,Z,L\n",
    "end"
   ]
  },
  {
   "cell_type": "markdown",
   "metadata": {},
   "source": [
    "# Veriffying Theoretical Properties"
   ]
  },
  {
   "cell_type": "code",
   "execution_count": null,
   "metadata": {},
   "outputs": [],
   "source": [
    "wasserstein = zeros(10)\n",
    "active  = zeros(10)\n",
    "sparsity  = zeros(10)\n",
    "Zs  = []\n",
    "fs = []\n",
    "gs  = []"
   ]
  },
  {
   "cell_type": "code",
   "execution_count": null,
   "metadata": {
    "code_folding": [],
    "scrolled": true
   },
   "outputs": [],
   "source": [
    "for i = 1:5\n",
    "    γ = 10^(i)\n",
    "    t = @elapsed f,g,Z,L = calc_opt(a,b,D,γ,1e-15,maxIters=15000);\n",
    "    wasserstein[i] = sum(Z.*D)\n",
    "    active[i] = length(L)\n",
    "    sparsity[i] = sum(Z.>0)\n",
    "    push!(Zs,Z)\n",
    "    push!(fs,f)\n",
    "    push!(gs,g)\n",
    "    @show(t)\n",
    "    flush(stdout)\n",
    "end"
   ]
  },
  {
   "cell_type": "code",
   "execution_count": null,
   "metadata": {
    "code_folding": [],
    "scrolled": true
   },
   "outputs": [],
   "source": [
    "wasserstein_entropy = zeros(10)\n",
    "active_entropy  = zeros(10)\n",
    "sparsity_entropy  = zeros(10)\n",
    "Zs_entropy  = []\n",
    "fs_entropy  = []\n",
    "gs_entropy  = []\n",
    "\n",
    "for e = 1:4\n",
    "    γ = 10^e\n",
    "    t = @elapsed f,g,Z,L = calc_opt_entropy(a,b,max.(1e-10,D),γ,1e-10,maxIters=10000);\n",
    "    wasserstein_entropy[e] = sum(Z.*D)\n",
    "    active_entropy[e] = length(L)\n",
    "    sparsity_entropy[e] = sum(Z.>0)\n",
    "    push!(Zs_entropy ,Z)\n",
    "    push!(fs_entropy ,f)\n",
    "    push!(gs_entropy ,g)\n",
    "    @show(t)\n",
    "    flush(stdout)\n",
    "end"
   ]
  },
  {
   "cell_type": "code",
   "execution_count": null,
   "metadata": {
    "code_folding": []
   },
   "outputs": [],
   "source": [
    "wasserstein_exp = zeros(10)\n",
    "active_exp  = zeros(10)\n",
    "sparsity_exp  = zeros(10)\n",
    "Zs_exp  = []\n",
    "fs_exp  = []\n",
    "gs_exp  = []"
   ]
  },
  {
   "cell_type": "code",
   "execution_count": null,
   "metadata": {
    "code_folding": []
   },
   "outputs": [],
   "source": [
    "for e = 1:4\n",
    "    γ = log(10^e)\n",
    "    t = @elapsed f,g,Z,L = calc_opt_exp(a,b,D,γ,1e-15,20000);\n",
    "    wasserstein_exp[e] = sum(Z.*D)\n",
    "    active_exp[e] = length(L)\n",
    "    sparsity_exp[e] = sum(Z.>0)\n",
    "    push!(Zs_exp,Z)\n",
    "    push!(fs_exp,f)\n",
    "    push!(gs_exp,g)\n",
    "    @show(t)\n",
    "    flush(stdout)\n",
    "end"
   ]
  },
  {
   "cell_type": "code",
   "execution_count": null,
   "metadata": {
    "code_folding": [
     1
    ]
   },
   "outputs": [],
   "source": [
    "drot = zeros(10)\n",
    "for i = 1:5\n",
    "    drot[i] = sum(fs[i].*a)+sum(gs[i].*b)\n",
    "    drot[i] -= 0.5*(norm(fs[i])^2)/(10^i)\n",
    "    drot[i] -= 0.5*(norm(gs[i])^2)/(10^i)\n",
    "end\n",
    "drot"
   ]
  },
  {
   "cell_type": "code",
   "execution_count": null,
   "metadata": {
    "code_folding": []
   },
   "outputs": [],
   "source": [
    "drot_entropy = zeros(10)\n",
    "for i = 1:4\n",
    "    drot_entropy[i] = sum(fs_entropy[i].*a)+sum(gs_entropy[i].*b)\n",
    "    drot_entropy[i] += sum(fs_entropy[i].*(log.(fs_entropy[i]).-1))/(10^i)\n",
    "    drot_entropy[i] += sum(gs_entropy[i].*(log.(gs_entropy[i]).-1))/(10^i)\n",
    "    wasserstein_entropy[i] = sum(Zs_entropy[i].*D)\n",
    "end\n",
    "@show(wasserstein_entropy)\n",
    "drot_entropy"
   ]
  },
  {
   "cell_type": "code",
   "execution_count": null,
   "metadata": {
    "code_folding": []
   },
   "outputs": [],
   "source": [
    "drot_exp = zeros(10)\n",
    "for i = 1:3\n",
    "    drot_exp[i] = sum(fs_exp[i].*a)+sum(gs_exp[i].*b)\n",
    "    drot_exp[i] -= sum(exp.(fs_exp[i]))/(10^i)\n",
    "    drot_exp[i] -= sum(exp.(gs_exp[i]))/(10^i)\n",
    "end\n",
    "drot_exp"
   ]
  },
  {
   "cell_type": "code",
   "execution_count": null,
   "metadata": {
    "code_folding": []
   },
   "outputs": [],
   "source": [
    "ra_exp = []\n",
    "rb_exp = []\n",
    "ra_error_entropy = zeros(10)\n",
    "rb_error_entropy = zeros(10)\n",
    "n = length(a)\n",
    "m = length(b)\n",
    "x = collect(1:100)\n",
    "bar(a, label=\"a\", color = :yellow)\n",
    "#scatter!(x,b, label = \"b\")"
   ]
  },
  {
   "cell_type": "code",
   "execution_count": null,
   "metadata": {
    "code_folding": []
   },
   "outputs": [],
   "source": [
    "i = 2\n",
    "Ra_entropy = Zs[i]*ones(m)\n",
    "Rb_entropy = Zs[i]'*ones(n)\n",
    "#bar(Ra_entropy, label = \"Entropy, γ = 1e2\", color = :green)\n",
    "i = 1\n",
    "Ra_entropy = Zs[i]*ones(m)\n",
    "Rb_entropy = Zs[i]'*ones(n)\n",
    "bar!(Ra_entropy, label = \"Quadratic, γ = 1e1\", color = :red)"
   ]
  },
  {
   "cell_type": "code",
   "execution_count": null,
   "metadata": {
    "code_folding": []
   },
   "outputs": [],
   "source": [
    "i = 2;\n",
    "Ra_entropy = Zs[i]*ones(m);\n",
    "Rb_entropy = Zs[i]'*ones(n);\n",
    "bar!(Ra_entropy, label = \"Exponential, γ = 1e2\", color = :orange)\n",
    "    #plot!(Rb_entropy, mc =:red, shape=:square, legend=:false)\n",
    "#savefig(\"mass-change-entropy-$i.png\")"
   ]
  },
  {
   "cell_type": "code",
   "execution_count": null,
   "metadata": {},
   "outputs": [],
   "source": [
    "savefig(\"entropy-mass-creation-differences.png\")"
   ]
  },
  {
   "cell_type": "code",
   "execution_count": null,
   "metadata": {},
   "outputs": [],
   "source": [
    "scatter!(x,a, label=\"a\")\n",
    "scatter!(x,b, label = \"b\")"
   ]
  },
  {
   "cell_type": "code",
   "execution_count": null,
   "metadata": {},
   "outputs": [],
   "source": [
    "scatter(x,a, label=\"a\")\n",
    "scatter!(x,b, label = \"b\")"
   ]
  },
  {
   "cell_type": "code",
   "execution_count": null,
   "metadata": {
    "code_folding": [],
    "scrolled": false
   },
   "outputs": [],
   "source": [
    "n = length(a)\n",
    "m = length(b)\n",
    "scatter(x,a, label=\"a\")\n",
    "scatter!(x,b, label = \"b\")\n",
    "i = 6\n",
    "    Ra = Zs[i]*ones(m)\n",
    "    Rb = Zs[i]'*ones(n)\n",
    "    scatter!(x,Ra, mc =:blue, shape =:cross)\n",
    "    scatter!(x,Rb, mc =:red, shape=:cross, legend=:false)\n",
    "    savefig(\"mass-change-quadraic-$i-new.png\")"
   ]
  },
  {
   "cell_type": "code",
   "execution_count": null,
   "metadata": {},
   "outputs": [],
   "source": [
    "plot(sparsity[1:5], label=\"Quadratic\", color =:green)\n",
    "plot!(sparsity_exp[1:4], label =\"Exponential\", color =:blue)\n",
    "plot!(sparsity_entropy[1:4], label = \"Entropy\", color =:red)\n",
    "scatter!(sparsity[1:5], label=\"Quadratic\", color =:green)\n",
    "scatter!(sparsity_exp[1:4], label =\"Exponential\", color =:blue)\n",
    "scatter!(sparsity_entropy[1:4], label = \"Entropy\", color =:red)\n",
    "plot!(199*ones(5), label = \"True Optimal Transport\", color=:black)\n",
    "plot!(xlabel = \"log(γ)\", ylabel = \"Number of active constraints\", legend=:bottomright)\n"
   ]
  },
  {
   "cell_type": "code",
   "execution_count": null,
   "metadata": {},
   "outputs": [],
   "source": [
    "scatter(active[1:6], xlabel = \"log(γ)\", ylabel = \"Number of active constraints\", legend=false)\n",
    "plot!(active[1:6], xlabel = \"log(γ)\", ylabel = \"Number of active constraints\", legend=false)"
   ]
  },
  {
   "cell_type": "code",
   "execution_count": null,
   "metadata": {},
   "outputs": [],
   "source": [
    "scatter(ra_error[1:6], yaxis=:log, label=\"Error in distribution a\", color=:red)\n",
    "plot!(ra_error[1:6], color=:red)\n",
    "plot!(rb_error[1:6], color=:blue)\n",
    "scatter!(rb_error[1:6], yaxis=:log, color=:blue,label=\"Error in distribution b\", xlabel = \"log(γ)\", ylabel = \"Error\", legend=false)"
   ]
  },
  {
   "cell_type": "code",
   "execution_count": null,
   "metadata": {},
   "outputs": [],
   "source": [
    "scatter(abs.(W.-drot[1:4])/W, yaxis=:log, xlabel = \"log(γ)\", ylabel = \"Error\", color =:red)\n",
    "plot!(abs.(W.-drot[1:4])/W, yaxis=:log, xlabel = \"log(γ)\", ylabel = \"Error\", color=:red)"
   ]
  },
  {
   "cell_type": "code",
   "execution_count": null,
   "metadata": {},
   "outputs": [],
   "source": [
    "scatter!(abs.(W.-wasserstein[1:4])/W, yaxis=:log, legend=false, color = :blue)\n",
    "plot!(abs.(W.-wasserstein[1:4])/W, yaxis=:log, legend=false, color = :blue)"
   ]
  },
  {
   "cell_type": "code",
   "execution_count": null,
   "metadata": {},
   "outputs": [],
   "source": [
    "savefig(\"wasserstein-quadratic-error.png\")"
   ]
  },
  {
   "cell_type": "code",
   "execution_count": null,
   "metadata": {},
   "outputs": [],
   "source": [
    "scatter(abs.(W.-drot_entropy[1:4])/W, yaxis=:log, xlabel = \"log(γ)\", ylabel = \"Error\", color =:red)\n",
    "plot!(abs.(W.-drot_entropy[1:4])/W, yaxis=:log, xlabel = \"log(γ)\", ylabel = \"Error\", color=:red)"
   ]
  },
  {
   "cell_type": "code",
   "execution_count": null,
   "metadata": {},
   "outputs": [],
   "source": [
    "scatter!(abs.(W.-wasserstein_entropy[1:4])/W, yaxis=:log, legend=false, color = :blue)\n",
    "plot!(abs.(W.-wasserstein_entropy[1:4])/W, yaxis=:log, legend=false, color = :blue)"
   ]
  },
  {
   "cell_type": "code",
   "execution_count": null,
   "metadata": {},
   "outputs": [],
   "source": [
    "savefig(\"wasserstein-entropy-error.png\")"
   ]
  },
  {
   "cell_type": "code",
   "execution_count": null,
   "metadata": {},
   "outputs": [],
   "source": [
    "scatter(abs.(W.-wasserstein_exp[1:3])/W, yaxis=:log, legend=false, color = :blue)\n",
    "plot!(abs.(W.-wasserstein_exp[1:3])/W, yaxis=:log, legend=false, color = :blue)"
   ]
  },
  {
   "cell_type": "code",
   "execution_count": null,
   "metadata": {},
   "outputs": [],
   "source": [
    "scatter!((W.-drot_exp[1:3])/W, yaxis=:log, xlabel = \"log(γ)\", ylabel = \"Error\", color =:red)\n",
    "plot!((W.-drot_exp[1:3])/W, yaxis=:log, xlabel = \"log(γ)\", ylabel = \"Error\", color=:red)"
   ]
  },
  {
   "cell_type": "code",
   "execution_count": null,
   "metadata": {},
   "outputs": [],
   "source": [
    "savefig(\"wasserstein-exponential-error.png\")"
   ]
  },
  {
   "cell_type": "markdown",
   "metadata": {},
   "source": [
    "# Method experiment"
   ]
  },
  {
   "cell_type": "markdown",
   "metadata": {},
   "source": [
    "## Solve Primal using CPLEX and Mosek"
   ]
  },
  {
   "cell_type": "code",
   "execution_count": null,
   "metadata": {},
   "outputs": [],
   "source": [
    "heatmap(TZ', color=:viridis)"
   ]
  },
  {
   "cell_type": "code",
   "execution_count": null,
   "metadata": {},
   "outputs": [],
   "source": [
    "model = Model()\n",
    "n = 501\n",
    "t = 0\n",
    "t += @elapsed @variable(model, f[1:n])\n",
    "t += @elapsed @variable(model, g[1:n]);\n",
    "cons = Array{Any,2}(undef, n,n)\n",
    "for i = 1:n\n",
    "    for j = 1:n\n",
    "        t += @elapsed cons[i,j] = @constraint(model, f[i]+g[j] <= D[i,j])\n",
    "    end\n",
    "end\n",
    "\n",
    "γ = 1e3"
   ]
  },
  {
   "cell_type": "code",
   "execution_count": null,
   "metadata": {},
   "outputs": [],
   "source": [
    "@objective(model, Max, sum(f.*a)+sum(g.*b) - (sum(f.^2)+sum(g.^2))/(2*γ));"
   ]
  },
  {
   "cell_type": "code",
   "execution_count": null,
   "metadata": {},
   "outputs": [],
   "source": [
    "set_optimizer(model, Mosek.Optimizer)"
   ]
  },
  {
   "cell_type": "code",
   "execution_count": null,
   "metadata": {
    "scrolled": true
   },
   "outputs": [],
   "source": [
    "JuMP.optimize!(model)"
   ]
  },
  {
   "cell_type": "code",
   "execution_count": null,
   "metadata": {},
   "outputs": [],
   "source": [
    "P = zeros(n,n)\n",
    "t += @elapsed for i = 1:n\n",
    "    for j = 1:n\n",
    "        P[i,j] = dual(cons[i,j])\n",
    "    end\n",
    "end"
   ]
  },
  {
   "cell_type": "code",
   "execution_count": null,
   "metadata": {},
   "outputs": [],
   "source": [
    "t"
   ]
  },
  {
   "cell_type": "code",
   "execution_count": null,
   "metadata": {
    "scrolled": true
   },
   "outputs": [],
   "source": [
    "set_optimizer(model, CPLEX.Optimizer)\n",
    "JuMP.optimize!(model)"
   ]
  },
  {
   "cell_type": "code",
   "execution_count": null,
   "metadata": {},
   "outputs": [],
   "source": [
    "set_optimizer(model, OSQP.Optimizer)\n",
    "JuMP.optimize!(model)"
   ]
  },
  {
   "cell_type": "code",
   "execution_count": null,
   "metadata": {},
   "outputs": [],
   "source": [
    "set_optimizer(model, SCS.Optimizer)\n",
    "JuMP.optimize!(model)"
   ]
  },
  {
   "cell_type": "code",
   "execution_count": null,
   "metadata": {},
   "outputs": [],
   "source": [
    "set_optimizer(model, ECOS.Optimizer)\n",
    "JuMP.optimize!(model)"
   ]
  },
  {
   "cell_type": "code",
   "execution_count": null,
   "metadata": {},
   "outputs": [],
   "source": [
    "set_optimizer(model, ProxSDP.Optimizer)\n",
    "JuMP.optimize!(model)"
   ]
  },
  {
   "cell_type": "markdown",
   "metadata": {},
   "source": [
    "## Solving the dual with CPLEX and Mosek"
   ]
  },
  {
   "cell_type": "code",
   "execution_count": null,
   "metadata": {},
   "outputs": [],
   "source": [
    "using Convex"
   ]
  },
  {
   "cell_type": "code",
   "execution_count": null,
   "metadata": {},
   "outputs": [],
   "source": [
    "@time P = Variable(length(a),length(b));"
   ]
  },
  {
   "cell_type": "code",
   "execution_count": null,
   "metadata": {},
   "outputs": [],
   "source": [
    "@time vone = ones(length(a));"
   ]
  },
  {
   "cell_type": "code",
   "execution_count": null,
   "metadata": {},
   "outputs": [],
   "source": [
    "@time problem = minimize(sum(D.*P)+sumsquares(a-P*vone)*γ/2+sumsquares(b-P'*vone)*γ/2, [P >= 0]);"
   ]
  },
  {
   "cell_type": "code",
   "execution_count": null,
   "metadata": {},
   "outputs": [],
   "source": [
    "@time problem = minimize(sum(D.*P), [P >= 0, a==P*vone,b==P'*vone]);"
   ]
  },
  {
   "cell_type": "code",
   "execution_count": null,
   "metadata": {},
   "outputs": [],
   "source": [
    "t = @elapsed solve!(problem, CPLEX.Optimizer);"
   ]
  },
  {
   "cell_type": "code",
   "execution_count": null,
   "metadata": {},
   "outputs": [],
   "source": []
  },
  {
   "cell_type": "markdown",
   "metadata": {},
   "source": [
    "# Color Transfer"
   ]
  },
  {
   "cell_type": "code",
   "execution_count": null,
   "metadata": {},
   "outputs": [],
   "source": [
    "using FileIO\n",
    "img1 = load(\"./beach.jpg\");"
   ]
  },
  {
   "cell_type": "code",
   "execution_count": null,
   "metadata": {},
   "outputs": [],
   "source": [
    "img2 = load(\"./barcelona-morning-sky.jpg\");"
   ]
  },
  {
   "cell_type": "code",
   "execution_count": null,
   "metadata": {},
   "outputs": [],
   "source": [
    "r1 = convert(Array{Float64,1},vec(red.(img1)));\n",
    "g1 = convert(Array{Float64,1},vec(green.(img1)));\n",
    "b1 = convert(Array{Float64,1},vec(blue.(img1)));\n",
    "\n",
    "r2 = convert(Array{Float64,1},vec(red.(img2)));\n",
    "g2 = convert(Array{Float64,1},vec(green.(img2)));\n",
    "b2 = convert(Array{Float64,1},vec(blue.(img2)));"
   ]
  },
  {
   "cell_type": "code",
   "execution_count": null,
   "metadata": {},
   "outputs": [],
   "source": [
    "n = size(img1)[1]*size(img1)[2]\n",
    "m = size(img2)[1]*size(img2)[2]"
   ]
  },
  {
   "cell_type": "code",
   "execution_count": null,
   "metadata": {},
   "outputs": [],
   "source": [
    "d1 = zeros(n,3)\n",
    "d2 = zeros(m,3);"
   ]
  },
  {
   "cell_type": "code",
   "execution_count": null,
   "metadata": {},
   "outputs": [],
   "source": [
    "for i = 1:n\n",
    "    d1[i,1] = r1[i]\n",
    "    d1[i,2] = g1[i]\n",
    "    d1[i,3] = b1[i]\n",
    "end\n",
    "    \n",
    "for i = 1:m\n",
    "    d2[i,1] = r2[i]\n",
    "    d2[i,2] = g2[i]\n",
    "    d2[i,3] = b2[i]\n",
    "end"
   ]
  },
  {
   "cell_type": "code",
   "execution_count": null,
   "metadata": {},
   "outputs": [],
   "source": [
    "@show((n,m))"
   ]
  },
  {
   "cell_type": "code",
   "execution_count": null,
   "metadata": {},
   "outputs": [],
   "source": [
    "k = 4096\n",
    "c1 = kmeans(d1',k)"
   ]
  },
  {
   "cell_type": "code",
   "execution_count": null,
   "metadata": {},
   "outputs": [],
   "source": [
    "c2 = kmeans(d2',k)"
   ]
  },
  {
   "cell_type": "code",
   "execution_count": null,
   "metadata": {},
   "outputs": [],
   "source": [
    "d1 = 0"
   ]
  },
  {
   "cell_type": "code",
   "execution_count": null,
   "metadata": {},
   "outputs": [],
   "source": [
    "d2 = 0"
   ]
  },
  {
   "cell_type": "code",
   "execution_count": null,
   "metadata": {},
   "outputs": [],
   "source": []
  },
  {
   "cell_type": "code",
   "execution_count": null,
   "metadata": {},
   "outputs": [],
   "source": [
    "a = zeros(k)\n",
    "for i = 1:n\n",
    "    a[c1.assignments[i]]+=1\n",
    "end"
   ]
  },
  {
   "cell_type": "code",
   "execution_count": null,
   "metadata": {},
   "outputs": [],
   "source": [
    "b = zeros(k)\n",
    "for i = 1:m\n",
    "    b[c2.assignments[i]]+=1\n",
    "end"
   ]
  },
  {
   "cell_type": "code",
   "execution_count": null,
   "metadata": {},
   "outputs": [],
   "source": [
    "a = a./sum(a);\n",
    "b = b./sum(b);"
   ]
  },
  {
   "cell_type": "code",
   "execution_count": null,
   "metadata": {},
   "outputs": [],
   "source": [
    "D = zeros(k,k)\n",
    "\n",
    "for i = 1:k\n",
    "    for j = 1:k\n",
    "        D[i,j] = sum((c1.centers[:,i]-c2.centers[:,j]).^2)\n",
    "    end\n",
    "end"
   ]
  },
  {
   "cell_type": "code",
   "execution_count": null,
   "metadata": {},
   "outputs": [],
   "source": [
    "Z = ot.sinkhorn(a,b, D, 1e-2)"
   ]
  },
  {
   "cell_type": "code",
   "execution_count": null,
   "metadata": {},
   "outputs": [],
   "source": [
    "Z = ot.unbalanced.sinkhorn_stabilized_unbalanced(a, b, D, 1e-3, 1e1)"
   ]
  },
  {
   "cell_type": "code",
   "execution_count": null,
   "metadata": {},
   "outputs": [],
   "source": [
    "Z = ot.emd(a,b, PyReverseDims(D))'"
   ]
  },
  {
   "cell_type": "code",
   "execution_count": null,
   "metadata": {
    "scrolled": true
   },
   "outputs": [],
   "source": [
    "γ = 1e5\n",
    "t = @elapsed f,g,Z,L = calc_opt_entropy(a,b,D2,γ,1e-5,maxIters = 1000, verbose = true);"
   ]
  },
  {
   "cell_type": "code",
   "execution_count": null,
   "metadata": {},
   "outputs": [],
   "source": [
    "new_c = zeros(k,3);"
   ]
  },
  {
   "cell_type": "code",
   "execution_count": null,
   "metadata": {},
   "outputs": [],
   "source": [
    "for i = 1:k\n",
    "    for j = 1:k\n",
    "        new_c[i,:] += Z[i,j]*c2.centers[:,j]\n",
    "    end\n",
    "    if sum(Z[i,:]) > 0\n",
    "        new_c[i,:] = new_c[i,:]/sum(Z[i,:])\n",
    "    end\n",
    "end"
   ]
  },
  {
   "cell_type": "code",
   "execution_count": null,
   "metadata": {},
   "outputs": [],
   "source": [
    "new_r = zeros(n)\n",
    "new_g = zeros(n)\n",
    "new_b = zeros(n);"
   ]
  },
  {
   "cell_type": "code",
   "execution_count": null,
   "metadata": {},
   "outputs": [],
   "source": [
    "for i = 1:n\n",
    "    new_r[i] = new_c[c1.assignments[i],1]\n",
    "    new_g[i] = new_c[c1.assignments[i],2]\n",
    "    new_b[i] = new_c[c1.assignments[i],3]\n",
    "end"
   ]
  },
  {
   "cell_type": "code",
   "execution_count": null,
   "metadata": {},
   "outputs": [],
   "source": [
    "new_r_img = reshape(new_r,size(img1))\n",
    "new_g_img = reshape(new_g,size(img1))\n",
    "new_b_img = reshape(new_b,size(img1));"
   ]
  },
  {
   "cell_type": "code",
   "execution_count": null,
   "metadata": {},
   "outputs": [],
   "source": [
    "new_img = RGB.(new_r_img,new_g_img,new_b_img);"
   ]
  },
  {
   "cell_type": "code",
   "execution_count": null,
   "metadata": {},
   "outputs": [],
   "source": [
    "save(\"beach-barcelona-k-4096-gamma-1e-3-1e1-UOT.png\", new_img)"
   ]
  },
  {
   "cell_type": "markdown",
   "metadata": {},
   "source": [
    "# MNIST - USPS"
   ]
  },
  {
   "cell_type": "code",
   "execution_count": null,
   "metadata": {},
   "outputs": [],
   "source": [
    "using HDF5, MLDatasets, JLD2, FileIO, Plots, MAT\n",
    "plotly()"
   ]
  },
  {
   "cell_type": "code",
   "execution_count": null,
   "metadata": {},
   "outputs": [],
   "source": [
    "SVHN = matread(\"test_32x32.mat\")"
   ]
  },
  {
   "cell_type": "code",
   "execution_count": null,
   "metadata": {},
   "outputs": [],
   "source": [
    "svhn_x = reshape(convert(Array{Float64,4},SVHN[\"X\"]/255),:,26032);"
   ]
  },
  {
   "cell_type": "code",
   "execution_count": null,
   "metadata": {},
   "outputs": [],
   "source": [
    "file = h5open(\"usps.h5\")"
   ]
  },
  {
   "cell_type": "code",
   "execution_count": null,
   "metadata": {},
   "outputs": [],
   "source": [
    "d = read(file)"
   ]
  },
  {
   "cell_type": "code",
   "execution_count": null,
   "metadata": {},
   "outputs": [],
   "source": [
    "usps_train = reshape(d[\"train\"][\"data\"],(16,16,:));"
   ]
  },
  {
   "cell_type": "code",
   "execution_count": null,
   "metadata": {},
   "outputs": [],
   "source": [
    "i = 2"
   ]
  },
  {
   "cell_type": "code",
   "execution_count": null,
   "metadata": {},
   "outputs": [],
   "source": [
    "heatmap(usps_train[:,:,i]',legend=false)"
   ]
  },
  {
   "cell_type": "code",
   "execution_count": null,
   "metadata": {},
   "outputs": [],
   "source": [
    "heatmap(new_usps_balanced[:,:,i]',legend=false)"
   ]
  },
  {
   "cell_type": "code",
   "execution_count": null,
   "metadata": {},
   "outputs": [],
   "source": [
    "heatmap(new_usps_emd[:,:,i]',legend=false)"
   ]
  },
  {
   "cell_type": "code",
   "execution_count": null,
   "metadata": {},
   "outputs": [],
   "source": [
    "heatmap(new_usps_sinkhorn[:,:,i]',legend=false)"
   ]
  },
  {
   "cell_type": "code",
   "execution_count": null,
   "metadata": {},
   "outputs": [],
   "source": [
    "heatmap(new_usps_stochastic[:,:,i]',legend=false)"
   ]
  },
  {
   "cell_type": "code",
   "execution_count": null,
   "metadata": {},
   "outputs": [],
   "source": [
    "heatmap(new_usps_entropy[:,:,i]',legend=false)"
   ]
  },
  {
   "cell_type": "code",
   "execution_count": null,
   "metadata": {},
   "outputs": [],
   "source": [
    "heatmap(new_usps_quadratic[:,:,i]',legend=false)"
   ]
  },
  {
   "cell_type": "code",
   "execution_count": null,
   "metadata": {},
   "outputs": [],
   "source": [
    "usps_x = zeros(28,28,size(usps_train)[3]);\n",
    "for i = 1:size(usps_x)[3]\n",
    "    usps_x[7:22,7:22,i] = usps_train[:,:,i]\n",
    "end"
   ]
  },
  {
   "cell_type": "code",
   "execution_count": null,
   "metadata": {},
   "outputs": [],
   "source": [
    "usps_x = reshape(usps_x,:,size(usps_x)[3])"
   ]
  },
  {
   "cell_type": "code",
   "execution_count": null,
   "metadata": {},
   "outputs": [],
   "source": [
    "train_x, train_y = MNIST.traindata();"
   ]
  },
  {
   "cell_type": "code",
   "execution_count": null,
   "metadata": {},
   "outputs": [],
   "source": [
    "mnist_x = zeros(32,32,60000);"
   ]
  },
  {
   "cell_type": "code",
   "execution_count": null,
   "metadata": {},
   "outputs": [],
   "source": [
    "train_x = convert(Array{Float64,3},train_x);"
   ]
  },
  {
   "cell_type": "code",
   "execution_count": null,
   "metadata": {},
   "outputs": [],
   "source": [
    "for i = 1:60000\n",
    "    mnist_x[3:30,3:30,i] = train_x[:,:,i]\n",
    "end"
   ]
  },
  {
   "cell_type": "code",
   "execution_count": null,
   "metadata": {},
   "outputs": [],
   "source": [
    "mnist_x = reshape(train_x,:,60000)"
   ]
  },
  {
   "cell_type": "code",
   "execution_count": null,
   "metadata": {},
   "outputs": [],
   "source": [
    "mnist_x = vcat(mnist_x,mnist_x,mnist_x);"
   ]
  },
  {
   "cell_type": "code",
   "execution_count": null,
   "metadata": {},
   "outputs": [],
   "source": [
    "using Distances\n",
    "D = pairwise(Euclidean(), usps_x, mnist_x, dims=2)"
   ]
  },
  {
   "cell_type": "code",
   "execution_count": null,
   "metadata": {},
   "outputs": [],
   "source": [
    "reg = 1\n",
    "batch_size = 1000\n",
    "n,m = size(D)"
   ]
  },
  {
   "cell_type": "code",
   "execution_count": null,
   "metadata": {},
   "outputs": [],
   "source": [
    "Z4 = ot.stochastic.solve_dual_entropic(ones(n)/n,ones(m)/m, D, reg, batch_size)"
   ]
  },
  {
   "cell_type": "code",
   "execution_count": null,
   "metadata": {},
   "outputs": [],
   "source": [
    "Z3 = ot.unbalanced.sinkhorn_stabilized_unbalanced(ones(n)/n,ones(m)/m, D,1, 1)"
   ]
  },
  {
   "cell_type": "code",
   "execution_count": null,
   "metadata": {},
   "outputs": [],
   "source": [
    "Z1 = ot.emd(ones(m)/m,ones(n)/n, PyReverseDims(D))"
   ]
  },
  {
   "cell_type": "code",
   "execution_count": null,
   "metadata": {},
   "outputs": [],
   "source": []
  },
  {
   "cell_type": "code",
   "execution_count": null,
   "metadata": {},
   "outputs": [],
   "source": [
    "Z2 = ot.sinkhorn(ones(n)/n,ones(m)/m, D, 1)"
   ]
  },
  {
   "cell_type": "code",
   "execution_count": null,
   "metadata": {},
   "outputs": [],
   "source": [
    "γ = 1e5\n",
    "n,m = size(D)\n",
    "t = @elapsed f,g,Z,L = calc_opt_exp(ones(n)/n,ones(m)/m,D,γ,1e-5,10000);"
   ]
  },
  {
   "cell_type": "code",
   "execution_count": null,
   "metadata": {},
   "outputs": [],
   "source": [
    "@save \"MNIST-SVHN_test-OPT-entropy.jld2\" Dict(\"Z\" => Z, \"f\" => f, \"g\" => g, \"L\" => L, \"gamma\" => γ)"
   ]
  },
  {
   "cell_type": "code",
   "execution_count": null,
   "metadata": {},
   "outputs": [],
   "source": [
    "MT = MT[collect(keys(MT))[1]]\n",
    "Z = MT[\"Z\"]"
   ]
  },
  {
   "cell_type": "code",
   "execution_count": null,
   "metadata": {},
   "outputs": [],
   "source": [
    "new_usps_ent = zeros(28,28,7291);\n",
    "#new_usps2 = zeros(28,28,7291);\n",
    "#new_usps3 = zeros(28,28,7291);\n",
    "#new_usps4 = zeros(28,28,7291);\n",
    "for i = 1:7291\n",
    "    for j = 1:60000\n",
    "        new_usps_ent[:,:,i] += Z[i,j]*train_x[:,:,j]\n",
    "        #new_usps2[:,:,i] += Z2[i,j]*train_x[:,:,j]\n",
    "        #new_usps3[:,:,i] += Z3[i,j]*train_x[:,:,j]\n",
    "        #new_usps4[:,:,i] += Z4[i,j]*train_x[:,:,j]\n",
    "    end\n",
    "    #if sum(Z1[:,i]) > 0\n",
    "    #    new_usps1[:,:,i] = new_usps1[:,:,i]/sum(Z1[:,i])\n",
    "    #end\n",
    "    #if sum(Z2[i,:]) > 0\n",
    "    #    new_usps2[:,:,i] = new_usps2[:,:,i]/sum(Z2[i,:])\n",
    "    #end\n",
    "    #if sum(Z3[i,:]) > 0\n",
    "    #    new_usps3[:,:,i] = new_usps3[:,:,i]/sum(Z3[i,:])\n",
    "    #end\n",
    "    if sum(Z[i,:]) > 0\n",
    "        new_usps_ent[:,:,i] = new_usps_ent[:,:,i]/sum(Z[i,:])\n",
    "    end\n",
    "    if i %200 == 0\n",
    "        println(i)\n",
    "        flush(stdout)\n",
    "    end\n",
    "end"
   ]
  },
  {
   "cell_type": "code",
   "execution_count": null,
   "metadata": {},
   "outputs": [],
   "source": [
    "@save \"USPS-sinkhorn\" new_usps2\n",
    "@save \"USPS-unbalanced\" new_usps3\n",
    "@save \"USPS-stochastic\" new_usps4\n",
    "@save \"USPS-emd\" new_usps1"
   ]
  },
  {
   "cell_type": "code",
   "execution_count": null,
   "metadata": {},
   "outputs": [],
   "source": [
    "heatmap(new_usps1[:,:,12]')"
   ]
  },
  {
   "cell_type": "code",
   "execution_count": null,
   "metadata": {},
   "outputs": [],
   "source": [
    "heatmap(usps_train[:,:,12]')"
   ]
  },
  {
   "cell_type": "code",
   "execution_count": null,
   "metadata": {},
   "outputs": [],
   "source": [
    "R = load(\"new-USPS-quadratic.jld2\")\n",
    "k = collect(keys(R))[1]\n",
    "new_usps_quadratic = R[k][\"data\"]"
   ]
  },
  {
   "cell_type": "code",
   "execution_count": null,
   "metadata": {},
   "outputs": [],
   "source": [
    "new_usps_balanced = reshape(new_usps_balanced,:,7291)\n",
    "new_usps_emd = reshape(new_usps_emd,:,7291)\n",
    "new_usps_sinkhorn = reshape(new_usps_sinkhorn,:,7291)\n",
    "new_usps_stochastic = reshape(new_usps_stochastic,:,7291)\n",
    "new_usps_entropy = reshape(new_usps_entropy,:,7291)\n",
    "new_usps_quadratic = reshape(new_usps_quadratic,:,7291)"
   ]
  },
  {
   "cell_type": "code",
   "execution_count": null,
   "metadata": {
    "scrolled": true
   },
   "outputs": [],
   "source": [
    "using Distances\n",
    "D_unbalanced = pairwise(Euclidean(), new_usps_balanced, mnist_x, dims=2)\n",
    "D_emd = pairwise(Euclidean(), new_usps_emd, mnist_x, dims=2)\n",
    "D_stochastic = pairwise(Euclidean(), new_usps_stochastic, mnist_x, dims=2)\n",
    "D_sinkhorn = pairwise(Euclidean(), new_usps_sinkhorn, mnist_x, dims=2)\n",
    "D_entropy = pairwise(Euclidean(), new_usps_entropy, mnist_x, dims=2)\n",
    "D_quadratic = pairwise(Euclidean(), new_usps_quadratic, mnist_x, dims=2)"
   ]
  },
  {
   "cell_type": "code",
   "execution_count": null,
   "metadata": {},
   "outputs": [],
   "source": [
    "pred = zeros(7291)\n",
    "for i = 1:7291\n",
    "    pred[i] = train_y[argmin(D_quadratic[i,:])]\n",
    "end"
   ]
  },
  {
   "cell_type": "code",
   "execution_count": null,
   "metadata": {},
   "outputs": [],
   "source": [
    "d[\"train\"]"
   ]
  },
  {
   "cell_type": "code",
   "execution_count": null,
   "metadata": {},
   "outputs": [],
   "source": [
    "sum(pred .== d[\"train\"][\"target\"])/7291"
   ]
  },
  {
   "cell_type": "code",
   "execution_count": null,
   "metadata": {},
   "outputs": [],
   "source": [
    "usps_y = d[\"train\"][\"target\"]\n",
    "\n",
    "pred2 = zeros(60000)\n",
    "for i = 1:60000\n",
    "    pred2[i] = usps_y[argmin(D_quadratic[:,i])]\n",
    "end\n",
    "\n",
    "sum(pred2 .== train_y)/60000"
   ]
  },
  {
   "cell_type": "code",
   "execution_count": null,
   "metadata": {},
   "outputs": [],
   "source": [
    "1"
   ]
  },
  {
   "cell_type": "markdown",
   "metadata": {},
   "source": [
    "# Text Alignment"
   ]
  },
  {
   "cell_type": "code",
   "execution_count": null,
   "metadata": {},
   "outputs": [],
   "source": [
    "nltk = pyimport(\"nltk\")\n",
    "ft = pyimport(\"fasttext\");"
   ]
  },
  {
   "cell_type": "code",
   "execution_count": null,
   "metadata": {},
   "outputs": [],
   "source": [
    "model = ft.load_model(\"./fastText/cc.en.300.bin\")"
   ]
  },
  {
   "cell_type": "code",
   "execution_count": null,
   "metadata": {},
   "outputs": [],
   "source": [
    "texts = [\n",
    "\"the sign of four.txt\",\n",
    "\"the man in the brown suit.txt\",\n",
    "\"the inimitable jeeves.txt\",\n",
    "\"the idiot.txt\",\n",
    "\"the hound of baskerville.txt\",\n",
    "\"the gambler.txt\",\n",
    "\"murder on the links.txt\",\n",
    "\"my man jeeves.txt\",\n",
    "\"poirot investigates.txt\",\n",
    "\"right ho jeeves.txt\",\n",
    "\"the adventures of sherlock holmes.txt\",\n",
    "\"merchant of venice.txt\",\n",
    "\"macbeth.txt\",\n",
    "\"love among chickens.txt\",\n",
    "\"julius caesar.txt\",\n",
    "\"crime and punishment.txt\"]"
   ]
  },
  {
   "cell_type": "code",
   "execution_count": null,
   "metadata": {},
   "outputs": [],
   "source": [
    "text_t[13,12] = 0"
   ]
  },
  {
   "cell_type": "code",
   "execution_count": null,
   "metadata": {
    "code_folding": [],
    "scrolled": true
   },
   "outputs": [],
   "source": [
    "emd = zeros(16,16)\n",
    "entropy = zeros(16,16)\n",
    "quadratic = zeros(16,16)\n",
    "cuturi = zeros(16,16)\n",
    "unbalanced = zeros(16,16)\n",
    "\n",
    "emd_s = zeros(16,16)\n",
    "entropy_s = zeros(16,16)\n",
    "quadratic_s = zeros(16,16)\n",
    "cuturi_s = zeros(16,16)\n",
    "unbalanced_s = zeros(16,16)\n",
    "\n",
    "\n",
    "for t1 = 1:16\n",
    "    T = read(open(texts[t1], \"r\"), String);\n",
    "    T = replace(T, \"\\n\" => \" \");\n",
    "    R = nltk.sent_tokenize(T)\n",
    "    X = zeros(300,length(R))\n",
    "    count = 1\n",
    "    for i = 1:length(R)\n",
    "        if length(R[i]) > 0\n",
    "            X[:,count] = model.get_sentence_vector(R[i])\n",
    "            count += 1\n",
    "        end\n",
    "        \n",
    "    end\n",
    "    X = X[:,1:count-1]\n",
    "    for t2 = 1:16\n",
    "        T = read(open(texts[t2], \"r\"), String);\n",
    "        T = replace(T, \"\\n\" => \" \");\n",
    "        R = nltk.sent_tokenize(T)\n",
    "        Y = zeros(300,length(R))\n",
    "        count = 1\n",
    "        for i = 1:length(R)\n",
    "            if length(R[i]) > 0\n",
    "                Y[:,count] = model.get_sentence_vector(R[i])\n",
    "                count += 1\n",
    "            end\n",
    "        end\n",
    "        Y = Y[:,1:count-1]\n",
    "        \n",
    "        N = size(X)[2]\n",
    "        M = size(Y)[2]\n",
    "    \n",
    "        D = zeros(N,M)\n",
    "        for i = 1:N\n",
    "            for j = 1:M\n",
    "                D[i,j] = max(1e-10,1-sum(X[:,i].*Y[:,j])/(norm(X[:,i])*norm(Y[:,j])))\n",
    "            end\n",
    "        end \n",
    "        \n",
    "        @time f,g,Z_entropy,l_entropy = calc_opt_entropy(ones(N)/N,ones(M)/M,D,1, verbose = false)\n",
    "        flush(stdout)\n",
    "        @time f,g,Z_quadratic,l_quadratic = calc_opt(ones(N)/N,ones(M)/M,D,1e2, verbose = false)\n",
    "        flush(stdout)\n",
    "        @time Z_emd = ot.emd(ones(M)/M,ones(N)/N,PyReverseDims(D))\n",
    "        flush(stdout)\n",
    "        @time Z_cuturi = ot.sinkhorn(ones(N)/N,ones(M)/M,D,1)\n",
    "        flush(stdout)\n",
    "        @time Z_unbalanced = ot.unbalanced.sinkhorn_stabilized_unbalanced(ones(N)/N,ones(M)/M, D, 1, 1)\n",
    "        flush(stdout)\n",
    "        \n",
    "        emd[t1,t2] = sum(Z_emd'.*D)\n",
    "        entropy[t1,t2] = sum(Z_entropy.*D)\n",
    "        quadratic[t1,t2] = sum(Z_quadratic.*D)\n",
    "        cuturi[t1,t2] = sum(Z_cuturi.*D)\n",
    "        unbalanced[t1,t2] = sum(Z_unbalanced.*D)\n",
    "        \n",
    "        @show((emd[t1,t2],entropy[t1,t2],quadratic[t1,t2],cuturi[t1,t2],unbalanced[t1,t2]))\n",
    "\n",
    "        emd_s[t1,t2] = sum(Z_emd.!=0)/(N*M)\n",
    "        entropy_s[t1,t2] = sum(Z_entropy.!=0)/(N*M)\n",
    "        quadratic_s[t1,t2] = sum(Z_quadratic.!=0)/(N*M)\n",
    "        cuturi_s[t1,t2] = sum(Z_cuturi.!=0)/(N*M)\n",
    "        unbalanced_s[t1,t2] = sum(Z_unbalanced.!=0)/(N*M)\n",
    "    end\n",
    "end"
   ]
  },
  {
   "cell_type": "code",
   "execution_count": null,
   "metadata": {},
   "outputs": [],
   "source": [
    "sk.metrics.roc_auc_score(vec(text_t),vec(emd))"
   ]
  },
  {
   "cell_type": "code",
   "execution_count": null,
   "metadata": {},
   "outputs": [],
   "source": [
    "sk.metrics.roc_auc_score(vec(text_t),vec(entropy))"
   ]
  },
  {
   "cell_type": "code",
   "execution_count": null,
   "metadata": {},
   "outputs": [],
   "source": [
    "sk.metrics.roc_auc_score(vec(text_t),vec(quadratic))"
   ]
  },
  {
   "cell_type": "code",
   "execution_count": null,
   "metadata": {},
   "outputs": [],
   "source": [
    "sk.metrics.roc_auc_score(vec(text_t),vec(cuturi))"
   ]
  },
  {
   "cell_type": "code",
   "execution_count": null,
   "metadata": {},
   "outputs": [],
   "source": [
    "sk.metrics.roc_auc_score(vec(text_t),vec(unbalanced))"
   ]
  },
  {
   "cell_type": "code",
   "execution_count": null,
   "metadata": {},
   "outputs": [],
   "source": [
    "R[1086]"
   ]
  },
  {
   "cell_type": "code",
   "execution_count": null,
   "metadata": {},
   "outputs": [],
   "source": [
    "N = size(X)[1]\n",
    "M = size(Y)[2]\n",
    "\n",
    "D = zeros(N,M)\n",
    "for i = 1:N\n",
    "    for j = 1:M\n",
    "        D[i,j] = max(1e-3,1-sum(X[:,i].*Y[:,j])/(norm(X[:,i])*norm(Y[:,j])))\n",
    "        if !(D[i,j]<Inf)\n",
    "            @show((D[i,j],i,j))\n",
    "        end\n",
    "    end\n",
    "end  "
   ]
  },
  {
   "cell_type": "code",
   "execution_count": null,
   "metadata": {},
   "outputs": [],
   "source": []
  },
  {
   "cell_type": "code",
   "execution_count": null,
   "metadata": {},
   "outputs": [],
   "source": [
    "f,g,Z,l = calc_opt_entropy(ones(N)/N,ones(M)/M,D,1, verbose = true)"
   ]
  },
  {
   "cell_type": "code",
   "execution_count": null,
   "metadata": {},
   "outputs": [],
   "source": [
    "sum(Z.*D)/(sum(Z))"
   ]
  },
  {
   "cell_type": "code",
   "execution_count": null,
   "metadata": {},
   "outputs": [],
   "source": [
    "Z_emd = ot.emd(ones(M)/M,ones(N)/N,PyReverseDims(D))"
   ]
  },
  {
   "cell_type": "code",
   "execution_count": null,
   "metadata": {},
   "outputs": [],
   "source": [
    "sum(Z_emd'.*D)"
   ]
  },
  {
   "cell_type": "code",
   "execution_count": null,
   "metadata": {},
   "outputs": [],
   "source": [
    "sum(Z_emd .>0)"
   ]
  },
  {
   "cell_type": "code",
   "execution_count": null,
   "metadata": {},
   "outputs": [],
   "source": [
    "Z_cuturi = ot.sinkhorn(ones(N)/N,ones(M)/M,D,1)"
   ]
  },
  {
   "cell_type": "code",
   "execution_count": null,
   "metadata": {},
   "outputs": [],
   "source": [
    "sum(Z_cuturi.*D)"
   ]
  },
  {
   "cell_type": "code",
   "execution_count": null,
   "metadata": {},
   "outputs": [],
   "source": [
    "sum(Z_cuturi.>1e-5)"
   ]
  },
  {
   "cell_type": "code",
   "execution_count": null,
   "metadata": {},
   "outputs": [],
   "source": []
  },
  {
   "cell_type": "code",
   "execution_count": null,
   "metadata": {},
   "outputs": [],
   "source": []
  },
  {
   "cell_type": "code",
   "execution_count": null,
   "metadata": {},
   "outputs": [],
   "source": []
  },
  {
   "cell_type": "code",
   "execution_count": null,
   "metadata": {},
   "outputs": [],
   "source": []
  },
  {
   "cell_type": "code",
   "execution_count": null,
   "metadata": {},
   "outputs": [],
   "source": []
  },
  {
   "cell_type": "code",
   "execution_count": null,
   "metadata": {
    "code_folding": []
   },
   "outputs": [],
   "source": [
    "T = readlines(open(\"test.src\", \"r\"));\n",
    "Xs = []\n",
    "num_text = 0\n",
    "for i = 1:100\n",
    "    T[i] = replace(T[i], \"NEWLINE_CHAR  NEWLINE_CHAR\" => \"\")\n",
    "    A = split(T[i],\"|||||\")[1:end-1]\n",
    "    Y = []\n",
    "    for j = 1:length(A)\n",
    "        r = nltk.sent_tokenize(A[j])\n",
    "        N = length(r)\n",
    "        X = zeros(N,300)\n",
    "        count = 1\n",
    "        for k =1:N\n",
    "            if length(r[k]) > 0\n",
    "                X[count,:] = model.get_sentence_vector(r[k])\n",
    "                count += 1\n",
    "            end\n",
    "        end\n",
    "        X = X[1:count-1,:]\n",
    "        push!(Y,X)\n",
    "    end\n",
    "    push!(Xs,Y)\n",
    "        \n",
    "    num_text += length(A)\n",
    "end"
   ]
  },
  {
   "cell_type": "code",
   "execution_count": null,
   "metadata": {},
   "outputs": [],
   "source": [
    "L = length.(Xs);"
   ]
  },
  {
   "cell_type": "code",
   "execution_count": null,
   "metadata": {
    "code_folding": [
     4
    ],
    "scrolled": true
   },
   "outputs": [],
   "source": [
    "S_quadratic = zeros(num_text,num_text)\n",
    "average_sparsity_quadratic  = 0\n",
    "count1 = 1\n",
    "count2 = 1\n",
    "for i1 = 1:length(Xs)\n",
    "    println(\"$i1 \\r\")\n",
    "    flush(stdout)\n",
    "    for i2 = 1:L[i1]\n",
    "        count2 = 1\n",
    "        X = Xs[i1][i2]\n",
    "        N = size(X)[1]\n",
    "        for j1 = 1:length(Xs)\n",
    "            for j2 = 1:L[j1]\n",
    "                Y = Xs[j1][j2]\n",
    "                M = size(Y)[1]\n",
    "                D = zeros(N,M)\n",
    "                for i = 1:N\n",
    "                    for j = 1:M\n",
    "                        D[i,j] = max(0,1-sum(X[i,:].*Y[j,:])/(norm(X[i,:])*norm(Y[j,:])))\n",
    "                    end\n",
    "                end\n",
    "                \n",
    "                f,g,Z,l = calc_opt(ones(N)/N,ones(M)/M,D,1e1)\n",
    "                \n",
    "                average_sparsity_quadratic  += length(l)/(num_text*num_text)\n",
    "                \n",
    "                \n",
    "                S_quadratic[count1,count2] = sum(D.*Z) \n",
    "                count2 += 1\n",
    "            end\n",
    "        end\n",
    "        count1 += 1\n",
    "    end\n",
    "end"
   ]
  },
  {
   "cell_type": "code",
   "execution_count": null,
   "metadata": {
    "code_folding": [],
    "scrolled": true
   },
   "outputs": [],
   "source": [
    "S_exp = zeros(num_text,num_text)\n",
    "average_sparsity_exp  = 0\n",
    "count1 = 1\n",
    "count2 = 1\n",
    "for i1 = 1:length(Xs)\n",
    "    println(\"$i1 \\r\")\n",
    "    flush(stdout)\n",
    "    for i2 = 1:L[i1]\n",
    "        count2 = 1\n",
    "        X = Xs[i1][i2]\n",
    "        N = size(X)[1]\n",
    "        for j1 = 1:length(Xs)\n",
    "            for j2 = 1:L[j1]\n",
    "                Y = Xs[j1][j2]\n",
    "                M = size(Y)[1]\n",
    "                D = zeros(N,M)\n",
    "                for i = 1:N\n",
    "                    for j = 1:M\n",
    "                        D[i,j] = max(0,1-sum(X[i,:].*Y[j,:])/(norm(X[i,:])*norm(Y[j,:])))\n",
    "                    end\n",
    "                end\n",
    "                \n",
    "                f,g,Z,l = calc_opt_exp(ones(N)/N,ones(M)/M,D,1)\n",
    "                \n",
    "                average_sparsity_exp  += length(l)/(num_text*num_text)\n",
    "                \n",
    "                \n",
    "                S_exp[count1,count2] = sum(Z.*D)\n",
    "                count2 += 1\n",
    "            end\n",
    "        end\n",
    "        count1 += 1\n",
    "    end\n",
    "end"
   ]
  },
  {
   "cell_type": "code",
   "execution_count": null,
   "metadata": {
    "code_folding": [
     4
    ],
    "scrolled": true
   },
   "outputs": [],
   "source": [
    "S_entropy = zeros(num_text,num_text)\n",
    "average_sparsity_entropy  = 0\n",
    "count1 = 1\n",
    "count2 = 1\n",
    "for i1 = 1:length(Xs)\n",
    "    println(\"$i1 \\r\")\n",
    "    flush(stdout)\n",
    "    for i2 = 1:L[i1]\n",
    "        count2 = 1\n",
    "        X = Xs[i1][i2]\n",
    "        N = size(X)[1]\n",
    "        for j1 = 1:length(Xs)\n",
    "            for j2 = 1:L[j1]\n",
    "                Y = Xs[j1][j2]\n",
    "                M = size(Y)[1]\n",
    "                D = zeros(N,M)\n",
    "                for i = 1:N\n",
    "                    for j = 1:M\n",
    "                        D[i,j] = max(1e-10,1-sum(X[i,:].*Y[j,:])/(norm(X[i,:])*norm(Y[j,:])))\n",
    "                    end\n",
    "                end\n",
    "                \n",
    "                f,g,Z,l = calc_opt_entropy(ones(N)/N,ones(M)/M,D,1e2)\n",
    "                \n",
    "                average_sparsity_entropy  += length(l)/(num_text*num_text)\n",
    "                \n",
    "                \n",
    "                S_entropy[count1,count2] = sum(f)/N+sum(g)/M + sum(f.*(log.(f).-1))+sum(g.*(log.(g).-1)) \n",
    "                count2 += 1\n",
    "            end\n",
    "        end\n",
    "        count1 += 1\n",
    "    end\n",
    "end"
   ]
  },
  {
   "cell_type": "code",
   "execution_count": null,
   "metadata": {
    "code_folding": [
     4
    ],
    "scrolled": true
   },
   "outputs": [],
   "source": [
    "S_emd = zeros(num_text,num_text)\n",
    "average_sparsity_emd  = 0\n",
    "count1 = 1\n",
    "count2 = 1\n",
    "for i1 = 1:length(Xs)\n",
    "    println(\"$i1 \\r\")\n",
    "    flush(stdout)\n",
    "    for i2 = 1:L[i1]\n",
    "        count2 = 1\n",
    "        X = Xs[i1][i2]\n",
    "        N = size(X)[1]\n",
    "        for j1 = 1:length(Xs)\n",
    "            for j2 = 1:L[j1]\n",
    "                Y = Xs[j1][j2]\n",
    "                M = size(Y)[1]\n",
    "                D = zeros(N,M)\n",
    "                for i = 1:N\n",
    "                    for j = 1:M\n",
    "                        D[i,j] = 1-sum(X[i,:].*Y[j,:])/(norm(X[i,:])*norm(Y[j,:]))\n",
    "                    end\n",
    "                end\n",
    "                \n",
    "                Z = ot.emd(ones(M)/M,ones(N)/N,PyReverseDims(D))\n",
    "                \n",
    "                average_sparsity_emd  += (sum(Z.>0))/(num_text*num_text)\n",
    "                \n",
    "                \n",
    "                S_emd[count1,count2] = sum(D.*Z')\n",
    "                count2 += 1\n",
    "            end\n",
    "        end\n",
    "        count1 += 1\n",
    "    end\n",
    "end"
   ]
  },
  {
   "cell_type": "code",
   "execution_count": null,
   "metadata": {
    "code_folding": [],
    "scrolled": true
   },
   "outputs": [],
   "source": [
    "S_kl = zeros(num_text,num_text)\n",
    "average_sparsity_kl  = 0\n",
    "count1 = 1\n",
    "count2 = 1\n",
    "for i1 = 1:length(Xs)\n",
    "    println(\"$i1 \\r\")\n",
    "    flush(stdout)\n",
    "    for i2 = 1:L[i1]\n",
    "        count2 = 1\n",
    "        X = Xs[i1][i2]\n",
    "        N = size(X)[1]\n",
    "        for j1 = 1:length(Xs)\n",
    "            for j2 = 1:L[j1]\n",
    "                Y = Xs[j1][j2]\n",
    "                M = size(Y)[1]\n",
    "                D = zeros(N,M)\n",
    "                for i = 1:N\n",
    "                    for j = 1:M\n",
    "                        D[i,j] = 1-sum(X[i,:].*Y[j,:])/(norm(X[i,:])*norm(Y[j,:]))\n",
    "                    end\n",
    "                end\n",
    "                \n",
    "                Z = ot.unbalanced.sinkhorn_stabilized_unbalanced(ones(N)/N,ones(M)/M,D,1,1e2)\n",
    "                \n",
    "                average_sparsity_kl  += (sum(Z.>1e-10))/(num_text*num_text)\n",
    "                \n",
    "                \n",
    "                S_kl[count1,count2] = sum(D.*Z) \n",
    "                count2 += 1\n",
    "            end\n",
    "        end\n",
    "        count1 += 1\n",
    "    end\n",
    "end"
   ]
  },
  {
   "cell_type": "code",
   "execution_count": null,
   "metadata": {
    "code_folding": [
     4
    ],
    "scrolled": true
   },
   "outputs": [],
   "source": [
    "S_cuturi = zeros(num_text,num_text)\n",
    "average_sparsity_cuturi  = 0\n",
    "count1 = 1\n",
    "count2 = 1\n",
    "for i1 = 1:length(Xs)\n",
    "    println(\"$i1 \\r\")\n",
    "    flush(stdout)\n",
    "    for i2 = 1:L[i1]\n",
    "        count2 = 1\n",
    "        X = Xs[i1][i2]\n",
    "        N = size(X)[1]\n",
    "        for j1 = 1:length(Xs)\n",
    "            for j2 = 1:L[j1]\n",
    "                Y = Xs[j1][j2]\n",
    "                M = size(Y)[1]\n",
    "                D = zeros(N,M)\n",
    "                for i = 1:N\n",
    "                    for j = 1:M\n",
    "                        D[i,j] = 1-sum(X[i,:].*Y[j,:])/(norm(X[i,:])*norm(Y[j,:]))\n",
    "                    end\n",
    "                end\n",
    "                \n",
    "                Z = ot.sinkhorn(ones(N)/N,ones(M)/M,D,1)\n",
    "                \n",
    "                average_sparsity_cuturi  += (sum(Z.>1e-10))/(num_text*num_text)\n",
    "                \n",
    "                \n",
    "                S_cuturi[count1,count2] = sum(D.*Z) \n",
    "                count2 += 1\n",
    "            end\n",
    "        end\n",
    "        count1 += 1\n",
    "    end\n",
    "end\n"
   ]
  },
  {
   "cell_type": "code",
   "execution_count": null,
   "metadata": {
    "code_folding": [
     3
    ]
   },
   "outputs": [],
   "source": [
    "S = ones(num_text,num_text)\n",
    "count1 = 1\n",
    "count2 = 1\n",
    "for i1 = 1:length(Xs)\n",
    "    for i2 = 1:L[i1]\n",
    "        count2 = 1\n",
    "        for j1 = 1:length(Xs)\n",
    "            for j2 = 1:L[j1]\n",
    "                if i1 == j1\n",
    "                    S[count1,count2] = 0\n",
    "                end\n",
    "                count2 += 1\n",
    "            end\n",
    "        end\n",
    "        count1 += 1\n",
    "    end\n",
    "end"
   ]
  },
  {
   "cell_type": "code",
   "execution_count": null,
   "metadata": {},
   "outputs": [],
   "source": [
    "using FileIO,JLD2\n",
    "@save \"text-alignment.jld2\" Dict(\"entropy\" => S_entropy,\n",
    "\"exp\" => S_exp,\n",
    "\"emd\" => S_emd,\n",
    "\"cutuir\" => S_cuturi,\n",
    "\"kl\" => S_kl,\n",
    "\"quadratic\" => S_quadratic)"
   ]
  },
  {
   "cell_type": "code",
   "execution_count": null,
   "metadata": {},
   "outputs": [],
   "source": [
    "@show(average_sparsity_cuturi,average_sparsity_kl)"
   ]
  },
  {
   "cell_type": "code",
   "execution_count": null,
   "metadata": {},
   "outputs": [],
   "source": [
    "@show(average_sparsity_emd,average_sparsity_exp,average_sparsity_quadratic, average_sparsity_entropy)"
   ]
  },
  {
   "cell_type": "code",
   "execution_count": null,
   "metadata": {},
   "outputs": [],
   "source": [
    "sk = pyimport(\"sklearn\")"
   ]
  },
  {
   "cell_type": "code",
   "execution_count": null,
   "metadata": {},
   "outputs": [],
   "source": [
    "S_entropy"
   ]
  },
  {
   "cell_type": "code",
   "execution_count": null,
   "metadata": {},
   "outputs": [],
   "source": [
    "pa1 = 0\n",
    "for i = 1:num_text\n",
    "    idx = argmin(S_kl[i,:]+1000*Matrix(I,num_text,num_text)[i,:])\n",
    "    if S[i,idx] == 0\n",
    "        pa1 += 1\n",
    "    end\n",
    "end\n",
    "pa1/num_text"
   ]
  },
  {
   "cell_type": "code",
   "execution_count": null,
   "metadata": {},
   "outputs": [],
   "source": [
    "pa1 = 0\n",
    "for i = 1:num_text\n",
    "    idx = argmin(S_cuturi[i,:]+1000*Matrix(I,num_text,num_text)[i,:])\n",
    "    if S[i,idx] == 0\n",
    "        pa1 += 1\n",
    "    end\n",
    "end\n",
    "pa1/num_text"
   ]
  },
  {
   "cell_type": "code",
   "execution_count": null,
   "metadata": {},
   "outputs": [],
   "source": [
    "pa1 = 0\n",
    "for i = 1:num_text\n",
    "    idx = argmin(S_exp[i,:]+Matrix(I,num_text,num_text)[i,:])\n",
    "    if S[i,idx] == 0\n",
    "        pa1 += 1\n",
    "    end\n",
    "end\n",
    "pa1/num_text"
   ]
  },
  {
   "cell_type": "code",
   "execution_count": null,
   "metadata": {},
   "outputs": [],
   "source": [
    "pa1 = 0\n",
    "for i = 1:num_text\n",
    "    idx = argmax(S_entropy[i,:]-1000*Matrix(I,num_text,num_text)[i,:])\n",
    "    if S[i,idx] == 0\n",
    "        pa1 += 1\n",
    "    end\n",
    "end\n",
    "pa1/num_text"
   ]
  },
  {
   "cell_type": "code",
   "execution_count": null,
   "metadata": {},
   "outputs": [],
   "source": [
    "pa1 = 0\n",
    "for i = 1:num_text\n",
    "    idx = argmin(S_quadratic[i,:]+Matrix(I,num_text,num_text)[i,:])\n",
    "    if S[i,idx] == 0\n",
    "        pa1 += 1\n",
    "    end\n",
    "end\n",
    "pa1/num_text"
   ]
  },
  {
   "cell_type": "code",
   "execution_count": null,
   "metadata": {},
   "outputs": [],
   "source": [
    "pa1 = 0\n",
    "for i = 1:num_text\n",
    "    idx = argmin(S_emd[i,:]+Matrix(I,num_text,num_text)[i,:])\n",
    "    if S[i,idx] == 0\n",
    "        pa1 += 1\n",
    "    end\n",
    "end\n",
    "pa1/num_text"
   ]
  },
  {
   "cell_type": "code",
   "execution_count": null,
   "metadata": {},
   "outputs": [],
   "source": [
    "println(S_emd[:,19])"
   ]
  },
  {
   "cell_type": "code",
   "execution_count": null,
   "metadata": {
    "code_folding": []
   },
   "outputs": [],
   "source": [
    "for i = 1:num_text\n",
    "    for j = 1:num_text\n",
    "        if i == j\n",
    "            S_entropy[i,j] = 0\n",
    "            S_emd[i,j] = 0\n",
    "            S_exp[i,j] = 0\n",
    "            S_quadratic[i,j] = 0\n",
    "            S_cuturi[i,j] = 0\n",
    "        end\n",
    "        if !(S_emd[i,j] < Inf)\n",
    "            S_emd[i,j] = 1\n",
    "        end\n",
    "        if !(S_entropy[i,j] < Inf)\n",
    "            S_entropy[i,j] = 1\n",
    "        end\n",
    "        if !(S_exp[i,j] < Inf)\n",
    "            S_exp[i,j] = 1\n",
    "        end\n",
    "        if !(S_quadratic[i,j] < Inf)\n",
    "            S_quadratic[i,j] = 1\n",
    "        end\n",
    "        if !(S_cuturi[i,j] < Inf)\n",
    "            S_cuturi[i,j] = 1\n",
    "        end\n",
    "    end\n",
    "end\n"
   ]
  },
  {
   "cell_type": "code",
   "execution_count": null,
   "metadata": {
    "code_folding": []
   },
   "outputs": [],
   "source": [
    "for i = 1:num_text\n",
    "    for j = 1:num_text\n",
    "        if i == j\n",
    "            S_kl[i,j] = 0\n",
    "        end\n",
    "        if !(S_kl[i,j] < Inf)\n",
    "            S_kl[i,j] = 1\n",
    "        end\n",
    "    end\n",
    "end"
   ]
  },
  {
   "cell_type": "code",
   "execution_count": null,
   "metadata": {},
   "outputs": [],
   "source": [
    "t_quadratic = vec(S_quadratic)\n",
    "t_emd = vec(S_emd)\n",
    "t_entropy = -1*vec(S_entropy)\n",
    "t_exp = vec(S_exp)"
   ]
  },
  {
   "cell_type": "code",
   "execution_count": null,
   "metadata": {},
   "outputs": [],
   "source": [
    "t_cuturi = vec(S_cuturi)\n",
    "t_kl = vec(S_kl)"
   ]
  },
  {
   "cell_type": "code",
   "execution_count": null,
   "metadata": {},
   "outputs": [],
   "source": [
    "sk.metrics.roc_auc_score(vec(S),t_kl)"
   ]
  },
  {
   "cell_type": "code",
   "execution_count": null,
   "metadata": {},
   "outputs": [],
   "source": [
    "sk.metrics.roc_auc_score(vec(S),t_cuturi)"
   ]
  },
  {
   "cell_type": "code",
   "execution_count": null,
   "metadata": {},
   "outputs": [],
   "source": [
    "sk.metrics.roc_auc_score(vec(S),t_emd)"
   ]
  },
  {
   "cell_type": "code",
   "execution_count": null,
   "metadata": {},
   "outputs": [],
   "source": [
    "sk.metrics.roc_auc_score(vec(S),t_quadratic)"
   ]
  },
  {
   "cell_type": "code",
   "execution_count": null,
   "metadata": {},
   "outputs": [],
   "source": [
    "sk.metrics.roc_auc_score(vec(S),t_entropy)"
   ]
  },
  {
   "cell_type": "code",
   "execution_count": null,
   "metadata": {},
   "outputs": [],
   "source": [
    "sk.metrics.roc_auc_score(vec(S),t_exp)"
   ]
  },
  {
   "cell_type": "code",
   "execution_count": null,
   "metadata": {},
   "outputs": [],
   "source": [
    "S_entropy"
   ]
  },
  {
   "cell_type": "code",
   "execution_count": null,
   "metadata": {},
   "outputs": [],
   "source": []
  }
 ],
 "metadata": {
  "@webio": {
   "lastCommId": null,
   "lastKernelId": null
  },
  "kernelspec": {
   "display_name": "Julia 1.1.0",
   "language": "julia",
   "name": "julia-1.1"
  },
  "language_info": {
   "file_extension": ".jl",
   "mimetype": "application/julia",
   "name": "julia",
   "version": "1.1.0"
  }
 },
 "nbformat": 4,
 "nbformat_minor": 2
}
