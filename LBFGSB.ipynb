{
 "cells": [
  {
   "cell_type": "code",
   "execution_count": 1,
   "metadata": {},
   "outputs": [],
   "source": [
    "import numpy as np"
   ]
  },
  {
   "cell_type": "code",
   "execution_count": null,
   "metadata": {},
   "outputs": [],
   "source": [
    "n = 5001\n",
    "m = 5001\n",
    "set_I = range(n)\n",
    "set_J = range(m)\n",
    "\n",
    "x = np.linspace(-20,20,n)\n",
    "y = np.linspace(-20,20,m)\n",
    "\n",
    "a = np.zeros(n)\n",
    "b = np.zeros(m)\n",
    "\n",
    "for i in range(n):\n",
    "\ta[i] = np.exp(-1*(x[i]-15)**2/20)\n",
    "\n",
    "for i in range(m):\n",
    "\tb[i] = np.exp(-1*(y[i]+15)**2/20)\n",
    "    \n",
    "a = a/np.sum(a)\n",
    "b = b/np.sum(b)\n",
    "\n",
    "c = np.zeros((n,m))\n",
    "for i in range(n):\n",
    "\tfor j in range(m):\n",
    "\t\tc[i,j] = (x[i] - y[j])**2"
   ]
  },
  {
   "cell_type": "code",
   "execution_count": null,
   "metadata": {},
   "outputs": [],
   "source": [
    "def f(x):\n",
    "    p = np.reshape(np.copy(x),(n,m))\n",
    "    v1 = np.sum(p*c) \n",
    "    v2 = gamma*np.sum((a-np.dot(p,np.ones(m)))**2)/2 + gamma*np.sum((b-np.dot(np.ones(n),p))**2)/2\n",
    "    return v1 + v2\n",
    "\n",
    "def g(x):\n",
    "    p = np.reshape(np.copy(x),(n,m))\n",
    "    G = c - gamma*np.outer(a-np.dot(p,np.ones(m)),np.ones(m)) - gamma*np.outer(np.ones(n),b-np.dot(np.ones(n),p))\n",
    "    return np.reshape(G,n*m)"
   ]
  },
  {
   "cell_type": "code",
   "execution_count": null,
   "metadata": {},
   "outputs": [],
   "source": [
    "P = np.ones((n*m))\n",
    "gamma = 1e3"
   ]
  },
  {
   "cell_type": "code",
   "execution_count": null,
   "metadata": {},
   "outputs": [],
   "source": [
    "g(P)"
   ]
  },
  {
   "cell_type": "code",
   "execution_count": null,
   "metadata": {},
   "outputs": [],
   "source": [
    "import scipy.optimize as so\n",
    "import time"
   ]
  },
  {
   "cell_type": "code",
   "execution_count": null,
   "metadata": {},
   "outputs": [],
   "source": [
    "bound = [(0,None) for i in range(n) for j in range(m)]"
   ]
  },
  {
   "cell_type": "code",
   "execution_count": null,
   "metadata": {},
   "outputs": [],
   "source": [
    "st = time.time()\n",
    "r = so.fmin_l_bfgs_b(f, P, fprime=g, bounds = bound, iprint=2)\n",
    "et = time.time()\n",
    "print(et-st)"
   ]
  },
  {
   "cell_type": "code",
   "execution_count": null,
   "metadata": {},
   "outputs": [],
   "source": [
    "r"
   ]
  },
  {
   "cell_type": "code",
   "execution_count": null,
   "metadata": {},
   "outputs": [],
   "source": [
    "f(r[0])"
   ]
  },
  {
   "cell_type": "code",
   "execution_count": 61,
   "metadata": {},
   "outputs": [],
   "source": [
    "import seaborn as sns\n",
    "import matplotlib.pyplot as plt"
   ]
  },
  {
   "cell_type": "code",
   "execution_count": 18,
   "metadata": {},
   "outputs": [
    {
     "data": {
      "text/plain": [
       "<matplotlib.axes._subplots.AxesSubplot at 0x7fb675ec8e48>"
      ]
     },
     "execution_count": 18,
     "metadata": {},
     "output_type": "execute_result"
    },
    {
     "data": {
      "image/png": "[encoded data removed]",
      "text/plain": [
       "<Figure size 432x288 with 2 Axes>"
      ]
     },
     "metadata": {
      "needs_background": "light"
     },
     "output_type": "display_data"
    }
   ],
   "source": [
    "sns.heatmap(p)"
   ]
  },
  {
   "cell_type": "code",
   "execution_count": null,
   "metadata": {},
   "outputs": [],
   "source": []
  }
 ],
 "metadata": {
  "@webio": {
   "lastCommId": null,
   "lastKernelId": null
  },
  "kernelspec": {
   "display_name": "Python 3",
   "language": "python",
   "name": "python3"
  },
  "language_info": {
   "codemirror_mode": {
    "name": "ipython",
    "version": 3
   },
   "file_extension": ".py",
   "mimetype": "text/x-python",
   "name": "python",
   "nbconvert_exporter": "python",
   "pygments_lexer": "ipython3",
   "version": "3.6.8"
  }
 },
 "nbformat": 4,
 "nbformat_minor": 2
}
